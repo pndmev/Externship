{
  "nbformat": 4,
  "nbformat_minor": 0,
  "metadata": {
    "colab": {
      "name": "NER_BERT.ipynb",
      "provenance": []
    },
    "kernelspec": {
      "name": "python3",
      "display_name": "Python 3"
    },
    "widgets": {
      "application/vnd.jupyter.widget-state+json": {
        "46122e4efbeb4fb49dee68ca62d00099": {
          "model_module": "@jupyter-widgets/controls",
          "model_name": "HBoxModel",
          "state": {
            "_view_name": "HBoxView",
            "_dom_classes": [],
            "_model_name": "HBoxModel",
            "_view_module": "@jupyter-widgets/controls",
            "_model_module_version": "1.5.0",
            "_view_count": null,
            "_view_module_version": "1.5.0",
            "box_style": "",
            "layout": "IPY_MODEL_73f85b7bc3404d7eb3f401ff8e10bad8",
            "_model_module": "@jupyter-widgets/controls",
            "children": [
              "IPY_MODEL_1fa03384d12d4452be31add249ca9ad8",
              "IPY_MODEL_efb7ec34dcf048ef989dc3c46ed483b6"
            ]
          }
        },
        "73f85b7bc3404d7eb3f401ff8e10bad8": {
          "model_module": "@jupyter-widgets/base",
          "model_name": "LayoutModel",
          "state": {
            "_view_name": "LayoutView",
            "grid_template_rows": null,
            "right": null,
            "justify_content": null,
            "_view_module": "@jupyter-widgets/base",
            "overflow": null,
            "_model_module_version": "1.2.0",
            "_view_count": null,
            "flex_flow": null,
            "width": null,
            "min_width": null,
            "border": null,
            "align_items": null,
            "bottom": null,
            "_model_module": "@jupyter-widgets/base",
            "top": null,
            "grid_column": null,
            "overflow_y": null,
            "overflow_x": null,
            "grid_auto_flow": null,
            "grid_area": null,
            "grid_template_columns": null,
            "flex": null,
            "_model_name": "LayoutModel",
            "justify_items": null,
            "grid_row": null,
            "max_height": null,
            "align_content": null,
            "visibility": null,
            "align_self": null,
            "height": null,
            "min_height": null,
            "padding": null,
            "grid_auto_rows": null,
            "grid_gap": null,
            "max_width": null,
            "order": null,
            "_view_module_version": "1.2.0",
            "grid_template_areas": null,
            "object_position": null,
            "object_fit": null,
            "grid_auto_columns": null,
            "margin": null,
            "display": null,
            "left": null
          }
        },
        "1fa03384d12d4452be31add249ca9ad8": {
          "model_module": "@jupyter-widgets/controls",
          "model_name": "FloatProgressModel",
          "state": {
            "_view_name": "ProgressView",
            "style": "IPY_MODEL_49c753c8b36c4cdbbc9b583e402dbcca",
            "_dom_classes": [],
            "description": "Downloading: 100%",
            "_model_name": "FloatProgressModel",
            "bar_style": "success",
            "max": 213450,
            "_view_module": "@jupyter-widgets/controls",
            "_model_module_version": "1.5.0",
            "value": 213450,
            "_view_count": null,
            "_view_module_version": "1.5.0",
            "orientation": "horizontal",
            "min": 0,
            "description_tooltip": null,
            "_model_module": "@jupyter-widgets/controls",
            "layout": "IPY_MODEL_23d35e76758a4b9da368470db489be96"
          }
        },
        "efb7ec34dcf048ef989dc3c46ed483b6": {
          "model_module": "@jupyter-widgets/controls",
          "model_name": "HTMLModel",
          "state": {
            "_view_name": "HTMLView",
            "style": "IPY_MODEL_36381de9d27447419ffacd81e42b77c2",
            "_dom_classes": [],
            "description": "",
            "_model_name": "HTMLModel",
            "placeholder": "​",
            "_view_module": "@jupyter-widgets/controls",
            "_model_module_version": "1.5.0",
            "value": " 213k/213k [00:00&lt;00:00, 1.97MB/s]",
            "_view_count": null,
            "_view_module_version": "1.5.0",
            "description_tooltip": null,
            "_model_module": "@jupyter-widgets/controls",
            "layout": "IPY_MODEL_01a2812279bf47b8b4feb0a6fbdc7edd"
          }
        },
        "49c753c8b36c4cdbbc9b583e402dbcca": {
          "model_module": "@jupyter-widgets/controls",
          "model_name": "ProgressStyleModel",
          "state": {
            "_view_name": "StyleView",
            "_model_name": "ProgressStyleModel",
            "description_width": "initial",
            "_view_module": "@jupyter-widgets/base",
            "_model_module_version": "1.5.0",
            "_view_count": null,
            "_view_module_version": "1.2.0",
            "bar_color": null,
            "_model_module": "@jupyter-widgets/controls"
          }
        },
        "23d35e76758a4b9da368470db489be96": {
          "model_module": "@jupyter-widgets/base",
          "model_name": "LayoutModel",
          "state": {
            "_view_name": "LayoutView",
            "grid_template_rows": null,
            "right": null,
            "justify_content": null,
            "_view_module": "@jupyter-widgets/base",
            "overflow": null,
            "_model_module_version": "1.2.0",
            "_view_count": null,
            "flex_flow": null,
            "width": null,
            "min_width": null,
            "border": null,
            "align_items": null,
            "bottom": null,
            "_model_module": "@jupyter-widgets/base",
            "top": null,
            "grid_column": null,
            "overflow_y": null,
            "overflow_x": null,
            "grid_auto_flow": null,
            "grid_area": null,
            "grid_template_columns": null,
            "flex": null,
            "_model_name": "LayoutModel",
            "justify_items": null,
            "grid_row": null,
            "max_height": null,
            "align_content": null,
            "visibility": null,
            "align_self": null,
            "height": null,
            "min_height": null,
            "padding": null,
            "grid_auto_rows": null,
            "grid_gap": null,
            "max_width": null,
            "order": null,
            "_view_module_version": "1.2.0",
            "grid_template_areas": null,
            "object_position": null,
            "object_fit": null,
            "grid_auto_columns": null,
            "margin": null,
            "display": null,
            "left": null
          }
        },
        "36381de9d27447419ffacd81e42b77c2": {
          "model_module": "@jupyter-widgets/controls",
          "model_name": "DescriptionStyleModel",
          "state": {
            "_view_name": "StyleView",
            "_model_name": "DescriptionStyleModel",
            "description_width": "",
            "_view_module": "@jupyter-widgets/base",
            "_model_module_version": "1.5.0",
            "_view_count": null,
            "_view_module_version": "1.2.0",
            "_model_module": "@jupyter-widgets/controls"
          }
        },
        "01a2812279bf47b8b4feb0a6fbdc7edd": {
          "model_module": "@jupyter-widgets/base",
          "model_name": "LayoutModel",
          "state": {
            "_view_name": "LayoutView",
            "grid_template_rows": null,
            "right": null,
            "justify_content": null,
            "_view_module": "@jupyter-widgets/base",
            "overflow": null,
            "_model_module_version": "1.2.0",
            "_view_count": null,
            "flex_flow": null,
            "width": null,
            "min_width": null,
            "border": null,
            "align_items": null,
            "bottom": null,
            "_model_module": "@jupyter-widgets/base",
            "top": null,
            "grid_column": null,
            "overflow_y": null,
            "overflow_x": null,
            "grid_auto_flow": null,
            "grid_area": null,
            "grid_template_columns": null,
            "flex": null,
            "_model_name": "LayoutModel",
            "justify_items": null,
            "grid_row": null,
            "max_height": null,
            "align_content": null,
            "visibility": null,
            "align_self": null,
            "height": null,
            "min_height": null,
            "padding": null,
            "grid_auto_rows": null,
            "grid_gap": null,
            "max_width": null,
            "order": null,
            "_view_module_version": "1.2.0",
            "grid_template_areas": null,
            "object_position": null,
            "object_fit": null,
            "grid_auto_columns": null,
            "margin": null,
            "display": null,
            "left": null
          }
        }
      }
    }
  },
  "cells": [
    {
      "cell_type": "code",
      "metadata": {
        "colab": {
          "base_uri": "https://localhost:8080/"
        },
        "id": "exIY3rFwHSST",
        "outputId": "09d43c0f-c612-4b03-b572-bc504e2267ff"
      },
      "source": [
        "from google.colab import drive\n",
        "drive.mount('/content/gdrive')"
      ],
      "execution_count": null,
      "outputs": [
        {
          "output_type": "stream",
          "text": [
            "Mounted at /content/gdrive\n"
          ],
          "name": "stdout"
        }
      ]
    },
    {
      "cell_type": "code",
      "metadata": {
        "id": "AxK0Ga51IQZb"
      },
      "source": [
        "data_path = \"/content/gdrive/My Drive/Data\" \n",
        "model_path = \"/content/gdrive/My Drive/Models\""
      ],
      "execution_count": null,
      "outputs": []
    },
    {
      "cell_type": "code",
      "metadata": {
        "id": "I2FpVRrVITxP"
      },
      "source": [
        "import pandas as pd\n",
        "import numpy as np\n",
        "from tqdm import tqdm, trange"
      ],
      "execution_count": null,
      "outputs": []
    },
    {
      "cell_type": "code",
      "metadata": {
        "id": "ffqU0A35IW47"
      },
      "source": [
        "data = pd.read_csv(data_path + \"/ner_dataset.csv\", encoding=\"latin1\").fillna(method=\"ffill\")"
      ],
      "execution_count": null,
      "outputs": []
    },
    {
      "cell_type": "code",
      "metadata": {
        "colab": {
          "base_uri": "https://localhost:8080/",
          "height": 359
        },
        "id": "gFwhF7s6If4D",
        "outputId": "f3139966-dbc3-47b3-ce35-c5952da94cdc"
      },
      "source": [
        "data.tail(10)"
      ],
      "execution_count": null,
      "outputs": [
        {
          "output_type": "execute_result",
          "data": {
            "text/html": [
              "<div>\n",
              "<style scoped>\n",
              "    .dataframe tbody tr th:only-of-type {\n",
              "        vertical-align: middle;\n",
              "    }\n",
              "\n",
              "    .dataframe tbody tr th {\n",
              "        vertical-align: top;\n",
              "    }\n",
              "\n",
              "    .dataframe thead th {\n",
              "        text-align: right;\n",
              "    }\n",
              "</style>\n",
              "<table border=\"1\" class=\"dataframe\">\n",
              "  <thead>\n",
              "    <tr style=\"text-align: right;\">\n",
              "      <th></th>\n",
              "      <th>Sentence #</th>\n",
              "      <th>Word</th>\n",
              "      <th>POS</th>\n",
              "      <th>Tag</th>\n",
              "    </tr>\n",
              "  </thead>\n",
              "  <tbody>\n",
              "    <tr>\n",
              "      <th>1048565</th>\n",
              "      <td>Sentence: 47958</td>\n",
              "      <td>impact</td>\n",
              "      <td>NN</td>\n",
              "      <td>O</td>\n",
              "    </tr>\n",
              "    <tr>\n",
              "      <th>1048566</th>\n",
              "      <td>Sentence: 47958</td>\n",
              "      <td>.</td>\n",
              "      <td>.</td>\n",
              "      <td>O</td>\n",
              "    </tr>\n",
              "    <tr>\n",
              "      <th>1048567</th>\n",
              "      <td>Sentence: 47959</td>\n",
              "      <td>Indian</td>\n",
              "      <td>JJ</td>\n",
              "      <td>B-gpe</td>\n",
              "    </tr>\n",
              "    <tr>\n",
              "      <th>1048568</th>\n",
              "      <td>Sentence: 47959</td>\n",
              "      <td>forces</td>\n",
              "      <td>NNS</td>\n",
              "      <td>O</td>\n",
              "    </tr>\n",
              "    <tr>\n",
              "      <th>1048569</th>\n",
              "      <td>Sentence: 47959</td>\n",
              "      <td>said</td>\n",
              "      <td>VBD</td>\n",
              "      <td>O</td>\n",
              "    </tr>\n",
              "    <tr>\n",
              "      <th>1048570</th>\n",
              "      <td>Sentence: 47959</td>\n",
              "      <td>they</td>\n",
              "      <td>PRP</td>\n",
              "      <td>O</td>\n",
              "    </tr>\n",
              "    <tr>\n",
              "      <th>1048571</th>\n",
              "      <td>Sentence: 47959</td>\n",
              "      <td>responded</td>\n",
              "      <td>VBD</td>\n",
              "      <td>O</td>\n",
              "    </tr>\n",
              "    <tr>\n",
              "      <th>1048572</th>\n",
              "      <td>Sentence: 47959</td>\n",
              "      <td>to</td>\n",
              "      <td>TO</td>\n",
              "      <td>O</td>\n",
              "    </tr>\n",
              "    <tr>\n",
              "      <th>1048573</th>\n",
              "      <td>Sentence: 47959</td>\n",
              "      <td>the</td>\n",
              "      <td>DT</td>\n",
              "      <td>O</td>\n",
              "    </tr>\n",
              "    <tr>\n",
              "      <th>1048574</th>\n",
              "      <td>Sentence: 47959</td>\n",
              "      <td>attack</td>\n",
              "      <td>NN</td>\n",
              "      <td>O</td>\n",
              "    </tr>\n",
              "  </tbody>\n",
              "</table>\n",
              "</div>"
            ],
            "text/plain": [
              "              Sentence #       Word  POS    Tag\n",
              "1048565  Sentence: 47958     impact   NN      O\n",
              "1048566  Sentence: 47958          .    .      O\n",
              "1048567  Sentence: 47959     Indian   JJ  B-gpe\n",
              "1048568  Sentence: 47959     forces  NNS      O\n",
              "1048569  Sentence: 47959       said  VBD      O\n",
              "1048570  Sentence: 47959       they  PRP      O\n",
              "1048571  Sentence: 47959  responded  VBD      O\n",
              "1048572  Sentence: 47959         to   TO      O\n",
              "1048573  Sentence: 47959        the   DT      O\n",
              "1048574  Sentence: 47959     attack   NN      O"
            ]
          },
          "metadata": {
            "tags": []
          },
          "execution_count": 5
        }
      ]
    },
    {
      "cell_type": "code",
      "metadata": {
        "id": "dYcVbu-uIkmz"
      },
      "source": [
        "class SentGetter(object):\n",
        "    def __init__(self, data):\n",
        "        self.n_sent = 1\n",
        "        self.data = data\n",
        "        self.empty = False\n",
        "        agg_func = lambda s: [(w, p, t) for w, p, t in zip(s[\"Word\"].values.tolist(), s[\"POS\"].values.tolist(), s[\"Tag\"].values.tolist())]\n",
        "        self.grouped = self.data.groupby(\"Sentence #\").apply(agg_func)\n",
        "        self.sents = [s for s in self.grouped]\n",
        "\n",
        "    def get_next(self):\n",
        "        try:\n",
        "            s = self.grouped[\"Sentence:\", self.n_sent]\n",
        "            self.n_sent += 1\n",
        "            return s\n",
        "        except:\n",
        "            return None"
      ],
      "execution_count": null,
      "outputs": []
    },
    {
      "cell_type": "code",
      "metadata": {
        "id": "qc9eH7-RJNkx"
      },
      "source": [
        "getter = SentGetter(data)"
      ],
      "execution_count": null,
      "outputs": []
    },
    {
      "cell_type": "code",
      "metadata": {
        "id": "QSGnJ9z1JVXy"
      },
      "source": [
        "sents = [[col[0] for col in sent] for sent in getter.sents]\n",
        "labels = [[col[2] for col in sent] for sent in getter.sents]"
      ],
      "execution_count": null,
      "outputs": []
    },
    {
      "cell_type": "code",
      "metadata": {
        "colab": {
          "base_uri": "https://localhost:8080/"
        },
        "id": "ttQ3v6y0Jpy3",
        "outputId": "9e58dae0-94c8-4908-f990-d62dc4c178fd"
      },
      "source": [
        "print(sents[0])\n",
        "print(labels[0])"
      ],
      "execution_count": null,
      "outputs": [
        {
          "output_type": "stream",
          "text": [
            "['Thousands', 'of', 'demonstrators', 'have', 'marched', 'through', 'London', 'to', 'protest', 'the', 'war', 'in', 'Iraq', 'and', 'demand', 'the', 'withdrawal', 'of', 'British', 'troops', 'from', 'that', 'country', '.']\n",
            "['O', 'O', 'O', 'O', 'O', 'O', 'B-geo', 'O', 'O', 'O', 'O', 'O', 'B-geo', 'O', 'O', 'O', 'O', 'O', 'B-gpe', 'O', 'O', 'O', 'O', 'O']\n"
          ],
          "name": "stdout"
        }
      ]
    },
    {
      "cell_type": "code",
      "metadata": {
        "id": "6kZgPEv6xrkw"
      },
      "source": [
        "# transformation\n",
        "def elim_tags(labels, elim_list):\n",
        "  return [[l if l not in elim_list else 'O' for l in label] for label in labels]"
      ],
      "execution_count": null,
      "outputs": []
    },
    {
      "cell_type": "code",
      "metadata": {
        "id": "xnQybPWcyeVF"
      },
      "source": [
        "labels = elim_tags(labels, ['B-art', 'I-art', 'B-eve', 'I-eve', 'B-org', 'I-org'])"
      ],
      "execution_count": null,
      "outputs": []
    },
    {
      "cell_type": "code",
      "metadata": {
        "id": "UtYTMDi84nYH"
      },
      "source": [
        "tag_values = list(set([l for label in labels for l in label]))\n",
        "tag_values.append(\"PAD\")\n",
        "tag2idx = {t: i for i, t in enumerate(tag_values)}"
      ],
      "execution_count": null,
      "outputs": []
    },
    {
      "cell_type": "code",
      "metadata": {
        "colab": {
          "base_uri": "https://localhost:8080/"
        },
        "id": "jpPTv2eY4Fgf",
        "outputId": "fe5f2319-a867-47ea-9ce8-4e4f53477795"
      },
      "source": [
        "tag2idx"
      ],
      "execution_count": null,
      "outputs": [
        {
          "output_type": "execute_result",
          "data": {
            "text/plain": [
              "{'B-geo': 8,\n",
              " 'B-gpe': 10,\n",
              " 'B-nat': 7,\n",
              " 'B-per': 0,\n",
              " 'B-tim': 3,\n",
              " 'I-geo': 2,\n",
              " 'I-gpe': 1,\n",
              " 'I-nat': 4,\n",
              " 'I-per': 6,\n",
              " 'I-tim': 9,\n",
              " 'O': 5,\n",
              " 'PAD': 11}"
            ]
          },
          "metadata": {
            "tags": []
          },
          "execution_count": 44
        }
      ]
    },
    {
      "cell_type": "code",
      "metadata": {
        "id": "BNAVFPnbKgo2"
      },
      "source": [
        "tag_values = list(set(data[\"Tag\"].values))\n",
        "tag_values.append(\"PAD\")\n",
        "tag2idx = {t: i for i, t in enumerate(tag_values)}"
      ],
      "execution_count": null,
      "outputs": []
    },
    {
      "cell_type": "code",
      "metadata": {
        "colab": {
          "base_uri": "https://localhost:8080/"
        },
        "id": "Si5Chx-Fxi84",
        "outputId": "2df74067-6215-4c9d-d91b-4a8956916376"
      },
      "source": [
        "# all tags by default"
      ],
      "execution_count": null,
      "outputs": [
        {
          "output_type": "execute_result",
          "data": {
            "text/plain": [
              "{'B-art': 8,\n",
              " 'B-eve': 9,\n",
              " 'B-geo': 10,\n",
              " 'B-gpe': 16,\n",
              " 'B-nat': 7,\n",
              " 'B-org': 12,\n",
              " 'B-per': 0,\n",
              " 'B-tim': 3,\n",
              " 'I-art': 15,\n",
              " 'I-eve': 14,\n",
              " 'I-geo': 2,\n",
              " 'I-gpe': 1,\n",
              " 'I-nat': 4,\n",
              " 'I-org': 11,\n",
              " 'I-per': 6,\n",
              " 'I-tim': 13,\n",
              " 'O': 5,\n",
              " 'PAD': 17}"
            ]
          },
          "metadata": {
            "tags": []
          },
          "execution_count": 11
        }
      ]
    },
    {
      "cell_type": "code",
      "metadata": {
        "colab": {
          "base_uri": "https://localhost:8080/"
        },
        "id": "G0JUshZGK_bI",
        "outputId": "4b944458-f690-4c57-ec75-f3fcdf41f2d0"
      },
      "source": [
        "pip install transformers"
      ],
      "execution_count": null,
      "outputs": [
        {
          "output_type": "stream",
          "text": [
            "Collecting transformers\n",
            "\u001b[?25l  Downloading https://files.pythonhosted.org/packages/3a/83/e74092e7f24a08d751aa59b37a9fc572b2e4af3918cb66f7766c3affb1b4/transformers-3.5.1-py3-none-any.whl (1.3MB)\n",
            "\r\u001b[K     |▎                               | 10kB 20.5MB/s eta 0:00:01\r\u001b[K     |▌                               | 20kB 27.9MB/s eta 0:00:01\r\u001b[K     |▊                               | 30kB 31.5MB/s eta 0:00:01\r\u001b[K     |█                               | 40kB 32.4MB/s eta 0:00:01\r\u001b[K     |█▎                              | 51kB 33.2MB/s eta 0:00:01\r\u001b[K     |█▌                              | 61kB 35.7MB/s eta 0:00:01\r\u001b[K     |█▊                              | 71kB 26.5MB/s eta 0:00:01\r\u001b[K     |██                              | 81kB 24.5MB/s eta 0:00:01\r\u001b[K     |██▎                             | 92kB 26.0MB/s eta 0:00:01\r\u001b[K     |██▌                             | 102kB 23.8MB/s eta 0:00:01\r\u001b[K     |██▊                             | 112kB 23.8MB/s eta 0:00:01\r\u001b[K     |███                             | 122kB 23.8MB/s eta 0:00:01\r\u001b[K     |███▎                            | 133kB 23.8MB/s eta 0:00:01\r\u001b[K     |███▌                            | 143kB 23.8MB/s eta 0:00:01\r\u001b[K     |███▉                            | 153kB 23.8MB/s eta 0:00:01\r\u001b[K     |████                            | 163kB 23.8MB/s eta 0:00:01\r\u001b[K     |████▎                           | 174kB 23.8MB/s eta 0:00:01\r\u001b[K     |████▌                           | 184kB 23.8MB/s eta 0:00:01\r\u001b[K     |████▉                           | 194kB 23.8MB/s eta 0:00:01\r\u001b[K     |█████                           | 204kB 23.8MB/s eta 0:00:01\r\u001b[K     |█████▎                          | 215kB 23.8MB/s eta 0:00:01\r\u001b[K     |█████▌                          | 225kB 23.8MB/s eta 0:00:01\r\u001b[K     |█████▉                          | 235kB 23.8MB/s eta 0:00:01\r\u001b[K     |██████                          | 245kB 23.8MB/s eta 0:00:01\r\u001b[K     |██████▎                         | 256kB 23.8MB/s eta 0:00:01\r\u001b[K     |██████▌                         | 266kB 23.8MB/s eta 0:00:01\r\u001b[K     |██████▉                         | 276kB 23.8MB/s eta 0:00:01\r\u001b[K     |███████                         | 286kB 23.8MB/s eta 0:00:01\r\u001b[K     |███████▎                        | 296kB 23.8MB/s eta 0:00:01\r\u001b[K     |███████▋                        | 307kB 23.8MB/s eta 0:00:01\r\u001b[K     |███████▉                        | 317kB 23.8MB/s eta 0:00:01\r\u001b[K     |████████                        | 327kB 23.8MB/s eta 0:00:01\r\u001b[K     |████████▎                       | 337kB 23.8MB/s eta 0:00:01\r\u001b[K     |████████▋                       | 348kB 23.8MB/s eta 0:00:01\r\u001b[K     |████████▉                       | 358kB 23.8MB/s eta 0:00:01\r\u001b[K     |█████████                       | 368kB 23.8MB/s eta 0:00:01\r\u001b[K     |█████████▎                      | 378kB 23.8MB/s eta 0:00:01\r\u001b[K     |█████████▋                      | 389kB 23.8MB/s eta 0:00:01\r\u001b[K     |█████████▉                      | 399kB 23.8MB/s eta 0:00:01\r\u001b[K     |██████████                      | 409kB 23.8MB/s eta 0:00:01\r\u001b[K     |██████████▎                     | 419kB 23.8MB/s eta 0:00:01\r\u001b[K     |██████████▋                     | 430kB 23.8MB/s eta 0:00:01\r\u001b[K     |██████████▉                     | 440kB 23.8MB/s eta 0:00:01\r\u001b[K     |███████████                     | 450kB 23.8MB/s eta 0:00:01\r\u001b[K     |███████████▍                    | 460kB 23.8MB/s eta 0:00:01\r\u001b[K     |███████████▋                    | 471kB 23.8MB/s eta 0:00:01\r\u001b[K     |███████████▉                    | 481kB 23.8MB/s eta 0:00:01\r\u001b[K     |████████████                    | 491kB 23.8MB/s eta 0:00:01\r\u001b[K     |████████████▍                   | 501kB 23.8MB/s eta 0:00:01\r\u001b[K     |████████████▋                   | 512kB 23.8MB/s eta 0:00:01\r\u001b[K     |████████████▉                   | 522kB 23.8MB/s eta 0:00:01\r\u001b[K     |█████████████                   | 532kB 23.8MB/s eta 0:00:01\r\u001b[K     |█████████████▍                  | 542kB 23.8MB/s eta 0:00:01\r\u001b[K     |█████████████▋                  | 552kB 23.8MB/s eta 0:00:01\r\u001b[K     |█████████████▉                  | 563kB 23.8MB/s eta 0:00:01\r\u001b[K     |██████████████                  | 573kB 23.8MB/s eta 0:00:01\r\u001b[K     |██████████████▍                 | 583kB 23.8MB/s eta 0:00:01\r\u001b[K     |██████████████▋                 | 593kB 23.8MB/s eta 0:00:01\r\u001b[K     |██████████████▉                 | 604kB 23.8MB/s eta 0:00:01\r\u001b[K     |███████████████▏                | 614kB 23.8MB/s eta 0:00:01\r\u001b[K     |███████████████▍                | 624kB 23.8MB/s eta 0:00:01\r\u001b[K     |███████████████▋                | 634kB 23.8MB/s eta 0:00:01\r\u001b[K     |███████████████▉                | 645kB 23.8MB/s eta 0:00:01\r\u001b[K     |████████████████▏               | 655kB 23.8MB/s eta 0:00:01\r\u001b[K     |████████████████▍               | 665kB 23.8MB/s eta 0:00:01\r\u001b[K     |████████████████▋               | 675kB 23.8MB/s eta 0:00:01\r\u001b[K     |████████████████▉               | 686kB 23.8MB/s eta 0:00:01\r\u001b[K     |█████████████████▏              | 696kB 23.8MB/s eta 0:00:01\r\u001b[K     |█████████████████▍              | 706kB 23.8MB/s eta 0:00:01\r\u001b[K     |█████████████████▋              | 716kB 23.8MB/s eta 0:00:01\r\u001b[K     |██████████████████              | 727kB 23.8MB/s eta 0:00:01\r\u001b[K     |██████████████████▏             | 737kB 23.8MB/s eta 0:00:01\r\u001b[K     |██████████████████▍             | 747kB 23.8MB/s eta 0:00:01\r\u001b[K     |██████████████████▋             | 757kB 23.8MB/s eta 0:00:01\r\u001b[K     |███████████████████             | 768kB 23.8MB/s eta 0:00:01\r\u001b[K     |███████████████████▏            | 778kB 23.8MB/s eta 0:00:01\r\u001b[K     |███████████████████▍            | 788kB 23.8MB/s eta 0:00:01\r\u001b[K     |███████████████████▋            | 798kB 23.8MB/s eta 0:00:01\r\u001b[K     |████████████████████            | 808kB 23.8MB/s eta 0:00:01\r\u001b[K     |████████████████████▏           | 819kB 23.8MB/s eta 0:00:01\r\u001b[K     |████████████████████▍           | 829kB 23.8MB/s eta 0:00:01\r\u001b[K     |████████████████████▋           | 839kB 23.8MB/s eta 0:00:01\r\u001b[K     |█████████████████████           | 849kB 23.8MB/s eta 0:00:01\r\u001b[K     |█████████████████████▏          | 860kB 23.8MB/s eta 0:00:01\r\u001b[K     |█████████████████████▍          | 870kB 23.8MB/s eta 0:00:01\r\u001b[K     |█████████████████████▊          | 880kB 23.8MB/s eta 0:00:01\r\u001b[K     |██████████████████████          | 890kB 23.8MB/s eta 0:00:01\r\u001b[K     |██████████████████████▏         | 901kB 23.8MB/s eta 0:00:01\r\u001b[K     |██████████████████████▍         | 911kB 23.8MB/s eta 0:00:01\r\u001b[K     |██████████████████████▊         | 921kB 23.8MB/s eta 0:00:01\r\u001b[K     |███████████████████████         | 931kB 23.8MB/s eta 0:00:01\r\u001b[K     |███████████████████████▏        | 942kB 23.8MB/s eta 0:00:01\r\u001b[K     |███████████████████████▍        | 952kB 23.8MB/s eta 0:00:01\r\u001b[K     |███████████████████████▊        | 962kB 23.8MB/s eta 0:00:01\r\u001b[K     |████████████████████████        | 972kB 23.8MB/s eta 0:00:01\r\u001b[K     |████████████████████████▏       | 983kB 23.8MB/s eta 0:00:01\r\u001b[K     |████████████████████████▍       | 993kB 23.8MB/s eta 0:00:01\r\u001b[K     |████████████████████████▊       | 1.0MB 23.8MB/s eta 0:00:01\r\u001b[K     |█████████████████████████       | 1.0MB 23.8MB/s eta 0:00:01\r\u001b[K     |█████████████████████████▏      | 1.0MB 23.8MB/s eta 0:00:01\r\u001b[K     |█████████████████████████▌      | 1.0MB 23.8MB/s eta 0:00:01\r\u001b[K     |█████████████████████████▊      | 1.0MB 23.8MB/s eta 0:00:01\r\u001b[K     |██████████████████████████      | 1.1MB 23.8MB/s eta 0:00:01\r\u001b[K     |██████████████████████████▏     | 1.1MB 23.8MB/s eta 0:00:01\r\u001b[K     |██████████████████████████▌     | 1.1MB 23.8MB/s eta 0:00:01\r\u001b[K     |██████████████████████████▊     | 1.1MB 23.8MB/s eta 0:00:01\r\u001b[K     |███████████████████████████     | 1.1MB 23.8MB/s eta 0:00:01\r\u001b[K     |███████████████████████████▏    | 1.1MB 23.8MB/s eta 0:00:01\r\u001b[K     |███████████████████████████▌    | 1.1MB 23.8MB/s eta 0:00:01\r\u001b[K     |███████████████████████████▊    | 1.1MB 23.8MB/s eta 0:00:01\r\u001b[K     |████████████████████████████    | 1.1MB 23.8MB/s eta 0:00:01\r\u001b[K     |████████████████████████████▏   | 1.1MB 23.8MB/s eta 0:00:01\r\u001b[K     |████████████████████████████▌   | 1.2MB 23.8MB/s eta 0:00:01\r\u001b[K     |████████████████████████████▊   | 1.2MB 23.8MB/s eta 0:00:01\r\u001b[K     |█████████████████████████████   | 1.2MB 23.8MB/s eta 0:00:01\r\u001b[K     |█████████████████████████████▎  | 1.2MB 23.8MB/s eta 0:00:01\r\u001b[K     |█████████████████████████████▌  | 1.2MB 23.8MB/s eta 0:00:01\r\u001b[K     |█████████████████████████████▊  | 1.2MB 23.8MB/s eta 0:00:01\r\u001b[K     |██████████████████████████████  | 1.2MB 23.8MB/s eta 0:00:01\r\u001b[K     |██████████████████████████████▎ | 1.2MB 23.8MB/s eta 0:00:01\r\u001b[K     |██████████████████████████████▌ | 1.2MB 23.8MB/s eta 0:00:01\r\u001b[K     |██████████████████████████████▊ | 1.2MB 23.8MB/s eta 0:00:01\r\u001b[K     |███████████████████████████████ | 1.3MB 23.8MB/s eta 0:00:01\r\u001b[K     |███████████████████████████████▎| 1.3MB 23.8MB/s eta 0:00:01\r\u001b[K     |███████████████████████████████▌| 1.3MB 23.8MB/s eta 0:00:01\r\u001b[K     |███████████████████████████████▊| 1.3MB 23.8MB/s eta 0:00:01\r\u001b[K     |████████████████████████████████| 1.3MB 23.8MB/s eta 0:00:01\r\u001b[K     |████████████████████████████████| 1.3MB 23.8MB/s \n",
            "\u001b[?25hRequirement already satisfied: regex!=2019.12.17 in /usr/local/lib/python3.6/dist-packages (from transformers) (2019.12.20)\n",
            "Collecting tokenizers==0.9.3\n",
            "\u001b[?25l  Downloading https://files.pythonhosted.org/packages/4c/34/b39eb9994bc3c999270b69c9eea40ecc6f0e97991dba28282b9fd32d44ee/tokenizers-0.9.3-cp36-cp36m-manylinux1_x86_64.whl (2.9MB)\n",
            "\u001b[K     |████████████████████████████████| 2.9MB 42.4MB/s \n",
            "\u001b[?25hCollecting sentencepiece==0.1.91\n",
            "\u001b[?25l  Downloading https://files.pythonhosted.org/packages/d4/a4/d0a884c4300004a78cca907a6ff9a5e9fe4f090f5d95ab341c53d28cbc58/sentencepiece-0.1.91-cp36-cp36m-manylinux1_x86_64.whl (1.1MB)\n",
            "\u001b[K     |████████████████████████████████| 1.1MB 50.8MB/s \n",
            "\u001b[?25hRequirement already satisfied: requests in /usr/local/lib/python3.6/dist-packages (from transformers) (2.23.0)\n",
            "Requirement already satisfied: filelock in /usr/local/lib/python3.6/dist-packages (from transformers) (3.0.12)\n",
            "Requirement already satisfied: packaging in /usr/local/lib/python3.6/dist-packages (from transformers) (20.4)\n",
            "Requirement already satisfied: protobuf in /usr/local/lib/python3.6/dist-packages (from transformers) (3.12.4)\n",
            "Collecting sacremoses\n",
            "\u001b[?25l  Downloading https://files.pythonhosted.org/packages/7d/34/09d19aff26edcc8eb2a01bed8e98f13a1537005d31e95233fd48216eed10/sacremoses-0.0.43.tar.gz (883kB)\n",
            "\u001b[K     |████████████████████████████████| 890kB 42.6MB/s \n",
            "\u001b[?25hRequirement already satisfied: tqdm>=4.27 in /usr/local/lib/python3.6/dist-packages (from transformers) (4.41.1)\n",
            "Requirement already satisfied: numpy in /usr/local/lib/python3.6/dist-packages (from transformers) (1.18.5)\n",
            "Requirement already satisfied: dataclasses; python_version < \"3.7\" in /usr/local/lib/python3.6/dist-packages (from transformers) (0.8)\n",
            "Requirement already satisfied: certifi>=2017.4.17 in /usr/local/lib/python3.6/dist-packages (from requests->transformers) (2020.11.8)\n",
            "Requirement already satisfied: urllib3!=1.25.0,!=1.25.1,<1.26,>=1.21.1 in /usr/local/lib/python3.6/dist-packages (from requests->transformers) (1.24.3)\n",
            "Requirement already satisfied: chardet<4,>=3.0.2 in /usr/local/lib/python3.6/dist-packages (from requests->transformers) (3.0.4)\n",
            "Requirement already satisfied: idna<3,>=2.5 in /usr/local/lib/python3.6/dist-packages (from requests->transformers) (2.10)\n",
            "Requirement already satisfied: six in /usr/local/lib/python3.6/dist-packages (from packaging->transformers) (1.15.0)\n",
            "Requirement already satisfied: pyparsing>=2.0.2 in /usr/local/lib/python3.6/dist-packages (from packaging->transformers) (2.4.7)\n",
            "Requirement already satisfied: setuptools in /usr/local/lib/python3.6/dist-packages (from protobuf->transformers) (50.3.2)\n",
            "Requirement already satisfied: click in /usr/local/lib/python3.6/dist-packages (from sacremoses->transformers) (7.1.2)\n",
            "Requirement already satisfied: joblib in /usr/local/lib/python3.6/dist-packages (from sacremoses->transformers) (0.17.0)\n",
            "Building wheels for collected packages: sacremoses\n",
            "  Building wheel for sacremoses (setup.py) ... \u001b[?25l\u001b[?25hdone\n",
            "  Created wheel for sacremoses: filename=sacremoses-0.0.43-cp36-none-any.whl size=893257 sha256=1f4a5e5a0fc891ad865bd06c0841e25d8329d3e99a38de12d29b31b36ce8dbd2\n",
            "  Stored in directory: /root/.cache/pip/wheels/29/3c/fd/7ce5c3f0666dab31a50123635e6fb5e19ceb42ce38d4e58f45\n",
            "Successfully built sacremoses\n",
            "Installing collected packages: tokenizers, sentencepiece, sacremoses, transformers\n",
            "Successfully installed sacremoses-0.0.43 sentencepiece-0.1.91 tokenizers-0.9.3 transformers-3.5.1\n"
          ],
          "name": "stdout"
        }
      ]
    },
    {
      "cell_type": "code",
      "metadata": {
        "id": "rnEAifO3K57X"
      },
      "source": [
        "import torch\n",
        "from torch.utils.data import TensorDataset, DataLoader, RandomSampler, SequentialSampler\n",
        "from transformers import BertTokenizer, BertConfig\n",
        "\n",
        "from keras.preprocessing.sequence import pad_sequences\n",
        "from sklearn.model_selection import train_test_split"
      ],
      "execution_count": null,
      "outputs": []
    },
    {
      "cell_type": "code",
      "metadata": {
        "id": "CNG02aQULH9z"
      },
      "source": [
        "MAX_LEN = 75\n",
        "batch_size = 32"
      ],
      "execution_count": null,
      "outputs": []
    },
    {
      "cell_type": "code",
      "metadata": {
        "id": "imL0W1-OLJjl"
      },
      "source": [
        "device = torch.device(\"cuda\" if torch.cuda.is_available() else \"cpu\")"
      ],
      "execution_count": null,
      "outputs": []
    },
    {
      "cell_type": "code",
      "metadata": {
        "colab": {
          "base_uri": "https://localhost:8080/",
          "height": 66,
          "referenced_widgets": [
            "46122e4efbeb4fb49dee68ca62d00099",
            "73f85b7bc3404d7eb3f401ff8e10bad8",
            "1fa03384d12d4452be31add249ca9ad8",
            "efb7ec34dcf048ef989dc3c46ed483b6",
            "49c753c8b36c4cdbbc9b583e402dbcca",
            "23d35e76758a4b9da368470db489be96",
            "36381de9d27447419ffacd81e42b77c2",
            "01a2812279bf47b8b4feb0a6fbdc7edd"
          ]
        },
        "id": "VtuGAvBoLL9T",
        "outputId": "e01849e9-f35b-4a8c-c95e-cbfcf95a9552"
      },
      "source": [
        "tokenizer = BertTokenizer.from_pretrained('bert-base-cased', do_lower_case=False)"
      ],
      "execution_count": null,
      "outputs": [
        {
          "output_type": "display_data",
          "data": {
            "application/vnd.jupyter.widget-view+json": {
              "model_id": "46122e4efbeb4fb49dee68ca62d00099",
              "version_minor": 0,
              "version_major": 2
            },
            "text/plain": [
              "HBox(children=(FloatProgress(value=0.0, description='Downloading', max=213450.0, style=ProgressStyle(descripti…"
            ]
          },
          "metadata": {
            "tags": []
          }
        },
        {
          "output_type": "stream",
          "text": [
            "\n"
          ],
          "name": "stdout"
        }
      ]
    },
    {
      "cell_type": "code",
      "metadata": {
        "id": "XzOj7j-ELSui"
      },
      "source": [
        "def tokenize(sent, label):\n",
        "    s_tokens = []\n",
        "    l_tokens = []\n",
        "\n",
        "    for cur_w, cur_l in zip(sent, label):\n",
        "        w_tokens = tokenizer.tokenize(cur_w)\n",
        "        s_tokens.extend(w_tokens)\n",
        "        l_tokens.extend([cur_l] * len(w_tokens))\n",
        "\n",
        "    return s_tokens, l_tokens"
      ],
      "execution_count": null,
      "outputs": []
    },
    {
      "cell_type": "code",
      "metadata": {
        "id": "h6g4KRcbLs1c"
      },
      "source": [
        "tokenized_data = [tokenize(sent, label) for sent, label in zip(sents, labels)]"
      ],
      "execution_count": null,
      "outputs": []
    },
    {
      "cell_type": "code",
      "metadata": {
        "id": "cqj7zxgpNz9C"
      },
      "source": [
        "s_tokens = [slpair[0] for slpair in tokenized_data]\n",
        "l_tokens = [slpair[1] for slpair in tokenized_data]"
      ],
      "execution_count": null,
      "outputs": []
    },
    {
      "cell_type": "code",
      "metadata": {
        "id": "J0HSEPF_OcoO"
      },
      "source": [
        "inp_ids = pad_sequences([tokenizer.convert_tokens_to_ids(s_token) for s_token in s_tokens], maxlen=MAX_LEN, dtype='long', value=0.0, truncating='post', padding='post')\n",
        "out_ids = pad_sequences([[tag2idx.get(l) for l in l_token] for l_token in l_tokens], maxlen=MAX_LEN, dtype='long', value=tag2idx['PAD'], truncating='post', padding='post')"
      ],
      "execution_count": null,
      "outputs": []
    },
    {
      "cell_type": "code",
      "metadata": {
        "id": "5toIcGJSPAhh"
      },
      "source": [
        "att_masks = [[float(idx != 0.0) for idx in ids] for ids in inp_ids]"
      ],
      "execution_count": null,
      "outputs": []
    },
    {
      "cell_type": "code",
      "metadata": {
        "id": "7SL23HinQrxj"
      },
      "source": [
        "train_inp, val_inp, train_out, val_out = train_test_split(inp_ids, out_ids, random_state=0, test_size=0.1)\n",
        "train_masks, val_masks, _, _ = train_test_split(att_masks, inp_ids, random_state=0, test_size=0.1)"
      ],
      "execution_count": null,
      "outputs": []
    },
    {
      "cell_type": "code",
      "metadata": {
        "id": "L10S0SAdRBqp"
      },
      "source": [
        "train_inp = torch.tensor(train_inp)\n",
        "val_inp = torch.tensor(val_inp)\n",
        "train_out = torch.tensor(train_out)\n",
        "val_out = torch.tensor(val_out)\n",
        "train_masks = torch.tensor(train_masks)\n",
        "val_masks = torch.tensor(val_masks)"
      ],
      "execution_count": null,
      "outputs": []
    },
    {
      "cell_type": "code",
      "metadata": {
        "id": "-on4ioFBRUfO"
      },
      "source": [
        "train_data = TensorDataset(train_inp, train_masks, train_out)\n",
        "train_sampler = RandomSampler(train_data)\n",
        "train_loader = DataLoader(train_data, sampler=train_sampler, batch_size=batch_size)\n",
        "\n",
        "val_data = TensorDataset(val_inp, val_masks, val_out)\n",
        "val_sampler = RandomSampler(val_data)\n",
        "val_loader = DataLoader(val_data, sampler=val_sampler, batch_size=batch_size)"
      ],
      "execution_count": null,
      "outputs": []
    },
    {
      "cell_type": "code",
      "metadata": {
        "id": "wvd3C5DFRojV"
      },
      "source": [
        "import transformers\n",
        "from transformers import BertForTokenClassification, AdamW"
      ],
      "execution_count": null,
      "outputs": []
    },
    {
      "cell_type": "code",
      "metadata": {
        "colab": {
          "base_uri": "https://localhost:8080/"
        },
        "id": "I6Ic3lt2Rrkh",
        "outputId": "677f4dca-f5d0-457b-9ba6-5886c644cfbb"
      },
      "source": [
        "model = BertForTokenClassification.from_pretrained('bert-base-cased', num_labels=len(tag2idx), output_attentions=False, output_hidden_states=False)"
      ],
      "execution_count": null,
      "outputs": [
        {
          "output_type": "stream",
          "text": [
            "Some weights of the model checkpoint at bert-base-cased were not used when initializing BertForTokenClassification: ['cls.predictions.bias', 'cls.predictions.transform.dense.weight', 'cls.predictions.transform.dense.bias', 'cls.predictions.decoder.weight', 'cls.seq_relationship.weight', 'cls.seq_relationship.bias', 'cls.predictions.transform.LayerNorm.weight', 'cls.predictions.transform.LayerNorm.bias']\n",
            "- This IS expected if you are initializing BertForTokenClassification from the checkpoint of a model trained on another task or with another architecture (e.g. initializing a BertForSequenceClassification model from a BertForPreTraining model).\n",
            "- This IS NOT expected if you are initializing BertForTokenClassification from the checkpoint of a model that you expect to be exactly identical (initializing a BertForSequenceClassification model from a BertForSequenceClassification model).\n",
            "Some weights of BertForTokenClassification were not initialized from the model checkpoint at bert-base-cased and are newly initialized: ['classifier.weight', 'classifier.bias']\n",
            "You should probably TRAIN this model on a down-stream task to be able to use it for predictions and inference.\n"
          ],
          "name": "stderr"
        }
      ]
    },
    {
      "cell_type": "code",
      "metadata": {
        "colab": {
          "base_uri": "https://localhost:8080/"
        },
        "id": "yLRm7pkqSLLG",
        "outputId": "1fdca84f-0ed7-4ea0-86f9-dce27286a78a"
      },
      "source": [
        "model.cuda()"
      ],
      "execution_count": null,
      "outputs": [
        {
          "output_type": "execute_result",
          "data": {
            "text/plain": [
              "BertForTokenClassification(\n",
              "  (bert): BertModel(\n",
              "    (embeddings): BertEmbeddings(\n",
              "      (word_embeddings): Embedding(28996, 768, padding_idx=0)\n",
              "      (position_embeddings): Embedding(512, 768)\n",
              "      (token_type_embeddings): Embedding(2, 768)\n",
              "      (LayerNorm): LayerNorm((768,), eps=1e-12, elementwise_affine=True)\n",
              "      (dropout): Dropout(p=0.1, inplace=False)\n",
              "    )\n",
              "    (encoder): BertEncoder(\n",
              "      (layer): ModuleList(\n",
              "        (0): BertLayer(\n",
              "          (attention): BertAttention(\n",
              "            (self): BertSelfAttention(\n",
              "              (query): Linear(in_features=768, out_features=768, bias=True)\n",
              "              (key): Linear(in_features=768, out_features=768, bias=True)\n",
              "              (value): Linear(in_features=768, out_features=768, bias=True)\n",
              "              (dropout): Dropout(p=0.1, inplace=False)\n",
              "            )\n",
              "            (output): BertSelfOutput(\n",
              "              (dense): Linear(in_features=768, out_features=768, bias=True)\n",
              "              (LayerNorm): LayerNorm((768,), eps=1e-12, elementwise_affine=True)\n",
              "              (dropout): Dropout(p=0.1, inplace=False)\n",
              "            )\n",
              "          )\n",
              "          (intermediate): BertIntermediate(\n",
              "            (dense): Linear(in_features=768, out_features=3072, bias=True)\n",
              "          )\n",
              "          (output): BertOutput(\n",
              "            (dense): Linear(in_features=3072, out_features=768, bias=True)\n",
              "            (LayerNorm): LayerNorm((768,), eps=1e-12, elementwise_affine=True)\n",
              "            (dropout): Dropout(p=0.1, inplace=False)\n",
              "          )\n",
              "        )\n",
              "        (1): BertLayer(\n",
              "          (attention): BertAttention(\n",
              "            (self): BertSelfAttention(\n",
              "              (query): Linear(in_features=768, out_features=768, bias=True)\n",
              "              (key): Linear(in_features=768, out_features=768, bias=True)\n",
              "              (value): Linear(in_features=768, out_features=768, bias=True)\n",
              "              (dropout): Dropout(p=0.1, inplace=False)\n",
              "            )\n",
              "            (output): BertSelfOutput(\n",
              "              (dense): Linear(in_features=768, out_features=768, bias=True)\n",
              "              (LayerNorm): LayerNorm((768,), eps=1e-12, elementwise_affine=True)\n",
              "              (dropout): Dropout(p=0.1, inplace=False)\n",
              "            )\n",
              "          )\n",
              "          (intermediate): BertIntermediate(\n",
              "            (dense): Linear(in_features=768, out_features=3072, bias=True)\n",
              "          )\n",
              "          (output): BertOutput(\n",
              "            (dense): Linear(in_features=3072, out_features=768, bias=True)\n",
              "            (LayerNorm): LayerNorm((768,), eps=1e-12, elementwise_affine=True)\n",
              "            (dropout): Dropout(p=0.1, inplace=False)\n",
              "          )\n",
              "        )\n",
              "        (2): BertLayer(\n",
              "          (attention): BertAttention(\n",
              "            (self): BertSelfAttention(\n",
              "              (query): Linear(in_features=768, out_features=768, bias=True)\n",
              "              (key): Linear(in_features=768, out_features=768, bias=True)\n",
              "              (value): Linear(in_features=768, out_features=768, bias=True)\n",
              "              (dropout): Dropout(p=0.1, inplace=False)\n",
              "            )\n",
              "            (output): BertSelfOutput(\n",
              "              (dense): Linear(in_features=768, out_features=768, bias=True)\n",
              "              (LayerNorm): LayerNorm((768,), eps=1e-12, elementwise_affine=True)\n",
              "              (dropout): Dropout(p=0.1, inplace=False)\n",
              "            )\n",
              "          )\n",
              "          (intermediate): BertIntermediate(\n",
              "            (dense): Linear(in_features=768, out_features=3072, bias=True)\n",
              "          )\n",
              "          (output): BertOutput(\n",
              "            (dense): Linear(in_features=3072, out_features=768, bias=True)\n",
              "            (LayerNorm): LayerNorm((768,), eps=1e-12, elementwise_affine=True)\n",
              "            (dropout): Dropout(p=0.1, inplace=False)\n",
              "          )\n",
              "        )\n",
              "        (3): BertLayer(\n",
              "          (attention): BertAttention(\n",
              "            (self): BertSelfAttention(\n",
              "              (query): Linear(in_features=768, out_features=768, bias=True)\n",
              "              (key): Linear(in_features=768, out_features=768, bias=True)\n",
              "              (value): Linear(in_features=768, out_features=768, bias=True)\n",
              "              (dropout): Dropout(p=0.1, inplace=False)\n",
              "            )\n",
              "            (output): BertSelfOutput(\n",
              "              (dense): Linear(in_features=768, out_features=768, bias=True)\n",
              "              (LayerNorm): LayerNorm((768,), eps=1e-12, elementwise_affine=True)\n",
              "              (dropout): Dropout(p=0.1, inplace=False)\n",
              "            )\n",
              "          )\n",
              "          (intermediate): BertIntermediate(\n",
              "            (dense): Linear(in_features=768, out_features=3072, bias=True)\n",
              "          )\n",
              "          (output): BertOutput(\n",
              "            (dense): Linear(in_features=3072, out_features=768, bias=True)\n",
              "            (LayerNorm): LayerNorm((768,), eps=1e-12, elementwise_affine=True)\n",
              "            (dropout): Dropout(p=0.1, inplace=False)\n",
              "          )\n",
              "        )\n",
              "        (4): BertLayer(\n",
              "          (attention): BertAttention(\n",
              "            (self): BertSelfAttention(\n",
              "              (query): Linear(in_features=768, out_features=768, bias=True)\n",
              "              (key): Linear(in_features=768, out_features=768, bias=True)\n",
              "              (value): Linear(in_features=768, out_features=768, bias=True)\n",
              "              (dropout): Dropout(p=0.1, inplace=False)\n",
              "            )\n",
              "            (output): BertSelfOutput(\n",
              "              (dense): Linear(in_features=768, out_features=768, bias=True)\n",
              "              (LayerNorm): LayerNorm((768,), eps=1e-12, elementwise_affine=True)\n",
              "              (dropout): Dropout(p=0.1, inplace=False)\n",
              "            )\n",
              "          )\n",
              "          (intermediate): BertIntermediate(\n",
              "            (dense): Linear(in_features=768, out_features=3072, bias=True)\n",
              "          )\n",
              "          (output): BertOutput(\n",
              "            (dense): Linear(in_features=3072, out_features=768, bias=True)\n",
              "            (LayerNorm): LayerNorm((768,), eps=1e-12, elementwise_affine=True)\n",
              "            (dropout): Dropout(p=0.1, inplace=False)\n",
              "          )\n",
              "        )\n",
              "        (5): BertLayer(\n",
              "          (attention): BertAttention(\n",
              "            (self): BertSelfAttention(\n",
              "              (query): Linear(in_features=768, out_features=768, bias=True)\n",
              "              (key): Linear(in_features=768, out_features=768, bias=True)\n",
              "              (value): Linear(in_features=768, out_features=768, bias=True)\n",
              "              (dropout): Dropout(p=0.1, inplace=False)\n",
              "            )\n",
              "            (output): BertSelfOutput(\n",
              "              (dense): Linear(in_features=768, out_features=768, bias=True)\n",
              "              (LayerNorm): LayerNorm((768,), eps=1e-12, elementwise_affine=True)\n",
              "              (dropout): Dropout(p=0.1, inplace=False)\n",
              "            )\n",
              "          )\n",
              "          (intermediate): BertIntermediate(\n",
              "            (dense): Linear(in_features=768, out_features=3072, bias=True)\n",
              "          )\n",
              "          (output): BertOutput(\n",
              "            (dense): Linear(in_features=3072, out_features=768, bias=True)\n",
              "            (LayerNorm): LayerNorm((768,), eps=1e-12, elementwise_affine=True)\n",
              "            (dropout): Dropout(p=0.1, inplace=False)\n",
              "          )\n",
              "        )\n",
              "        (6): BertLayer(\n",
              "          (attention): BertAttention(\n",
              "            (self): BertSelfAttention(\n",
              "              (query): Linear(in_features=768, out_features=768, bias=True)\n",
              "              (key): Linear(in_features=768, out_features=768, bias=True)\n",
              "              (value): Linear(in_features=768, out_features=768, bias=True)\n",
              "              (dropout): Dropout(p=0.1, inplace=False)\n",
              "            )\n",
              "            (output): BertSelfOutput(\n",
              "              (dense): Linear(in_features=768, out_features=768, bias=True)\n",
              "              (LayerNorm): LayerNorm((768,), eps=1e-12, elementwise_affine=True)\n",
              "              (dropout): Dropout(p=0.1, inplace=False)\n",
              "            )\n",
              "          )\n",
              "          (intermediate): BertIntermediate(\n",
              "            (dense): Linear(in_features=768, out_features=3072, bias=True)\n",
              "          )\n",
              "          (output): BertOutput(\n",
              "            (dense): Linear(in_features=3072, out_features=768, bias=True)\n",
              "            (LayerNorm): LayerNorm((768,), eps=1e-12, elementwise_affine=True)\n",
              "            (dropout): Dropout(p=0.1, inplace=False)\n",
              "          )\n",
              "        )\n",
              "        (7): BertLayer(\n",
              "          (attention): BertAttention(\n",
              "            (self): BertSelfAttention(\n",
              "              (query): Linear(in_features=768, out_features=768, bias=True)\n",
              "              (key): Linear(in_features=768, out_features=768, bias=True)\n",
              "              (value): Linear(in_features=768, out_features=768, bias=True)\n",
              "              (dropout): Dropout(p=0.1, inplace=False)\n",
              "            )\n",
              "            (output): BertSelfOutput(\n",
              "              (dense): Linear(in_features=768, out_features=768, bias=True)\n",
              "              (LayerNorm): LayerNorm((768,), eps=1e-12, elementwise_affine=True)\n",
              "              (dropout): Dropout(p=0.1, inplace=False)\n",
              "            )\n",
              "          )\n",
              "          (intermediate): BertIntermediate(\n",
              "            (dense): Linear(in_features=768, out_features=3072, bias=True)\n",
              "          )\n",
              "          (output): BertOutput(\n",
              "            (dense): Linear(in_features=3072, out_features=768, bias=True)\n",
              "            (LayerNorm): LayerNorm((768,), eps=1e-12, elementwise_affine=True)\n",
              "            (dropout): Dropout(p=0.1, inplace=False)\n",
              "          )\n",
              "        )\n",
              "        (8): BertLayer(\n",
              "          (attention): BertAttention(\n",
              "            (self): BertSelfAttention(\n",
              "              (query): Linear(in_features=768, out_features=768, bias=True)\n",
              "              (key): Linear(in_features=768, out_features=768, bias=True)\n",
              "              (value): Linear(in_features=768, out_features=768, bias=True)\n",
              "              (dropout): Dropout(p=0.1, inplace=False)\n",
              "            )\n",
              "            (output): BertSelfOutput(\n",
              "              (dense): Linear(in_features=768, out_features=768, bias=True)\n",
              "              (LayerNorm): LayerNorm((768,), eps=1e-12, elementwise_affine=True)\n",
              "              (dropout): Dropout(p=0.1, inplace=False)\n",
              "            )\n",
              "          )\n",
              "          (intermediate): BertIntermediate(\n",
              "            (dense): Linear(in_features=768, out_features=3072, bias=True)\n",
              "          )\n",
              "          (output): BertOutput(\n",
              "            (dense): Linear(in_features=3072, out_features=768, bias=True)\n",
              "            (LayerNorm): LayerNorm((768,), eps=1e-12, elementwise_affine=True)\n",
              "            (dropout): Dropout(p=0.1, inplace=False)\n",
              "          )\n",
              "        )\n",
              "        (9): BertLayer(\n",
              "          (attention): BertAttention(\n",
              "            (self): BertSelfAttention(\n",
              "              (query): Linear(in_features=768, out_features=768, bias=True)\n",
              "              (key): Linear(in_features=768, out_features=768, bias=True)\n",
              "              (value): Linear(in_features=768, out_features=768, bias=True)\n",
              "              (dropout): Dropout(p=0.1, inplace=False)\n",
              "            )\n",
              "            (output): BertSelfOutput(\n",
              "              (dense): Linear(in_features=768, out_features=768, bias=True)\n",
              "              (LayerNorm): LayerNorm((768,), eps=1e-12, elementwise_affine=True)\n",
              "              (dropout): Dropout(p=0.1, inplace=False)\n",
              "            )\n",
              "          )\n",
              "          (intermediate): BertIntermediate(\n",
              "            (dense): Linear(in_features=768, out_features=3072, bias=True)\n",
              "          )\n",
              "          (output): BertOutput(\n",
              "            (dense): Linear(in_features=3072, out_features=768, bias=True)\n",
              "            (LayerNorm): LayerNorm((768,), eps=1e-12, elementwise_affine=True)\n",
              "            (dropout): Dropout(p=0.1, inplace=False)\n",
              "          )\n",
              "        )\n",
              "        (10): BertLayer(\n",
              "          (attention): BertAttention(\n",
              "            (self): BertSelfAttention(\n",
              "              (query): Linear(in_features=768, out_features=768, bias=True)\n",
              "              (key): Linear(in_features=768, out_features=768, bias=True)\n",
              "              (value): Linear(in_features=768, out_features=768, bias=True)\n",
              "              (dropout): Dropout(p=0.1, inplace=False)\n",
              "            )\n",
              "            (output): BertSelfOutput(\n",
              "              (dense): Linear(in_features=768, out_features=768, bias=True)\n",
              "              (LayerNorm): LayerNorm((768,), eps=1e-12, elementwise_affine=True)\n",
              "              (dropout): Dropout(p=0.1, inplace=False)\n",
              "            )\n",
              "          )\n",
              "          (intermediate): BertIntermediate(\n",
              "            (dense): Linear(in_features=768, out_features=3072, bias=True)\n",
              "          )\n",
              "          (output): BertOutput(\n",
              "            (dense): Linear(in_features=3072, out_features=768, bias=True)\n",
              "            (LayerNorm): LayerNorm((768,), eps=1e-12, elementwise_affine=True)\n",
              "            (dropout): Dropout(p=0.1, inplace=False)\n",
              "          )\n",
              "        )\n",
              "        (11): BertLayer(\n",
              "          (attention): BertAttention(\n",
              "            (self): BertSelfAttention(\n",
              "              (query): Linear(in_features=768, out_features=768, bias=True)\n",
              "              (key): Linear(in_features=768, out_features=768, bias=True)\n",
              "              (value): Linear(in_features=768, out_features=768, bias=True)\n",
              "              (dropout): Dropout(p=0.1, inplace=False)\n",
              "            )\n",
              "            (output): BertSelfOutput(\n",
              "              (dense): Linear(in_features=768, out_features=768, bias=True)\n",
              "              (LayerNorm): LayerNorm((768,), eps=1e-12, elementwise_affine=True)\n",
              "              (dropout): Dropout(p=0.1, inplace=False)\n",
              "            )\n",
              "          )\n",
              "          (intermediate): BertIntermediate(\n",
              "            (dense): Linear(in_features=768, out_features=3072, bias=True)\n",
              "          )\n",
              "          (output): BertOutput(\n",
              "            (dense): Linear(in_features=3072, out_features=768, bias=True)\n",
              "            (LayerNorm): LayerNorm((768,), eps=1e-12, elementwise_affine=True)\n",
              "            (dropout): Dropout(p=0.1, inplace=False)\n",
              "          )\n",
              "        )\n",
              "      )\n",
              "    )\n",
              "  )\n",
              "  (dropout): Dropout(p=0.1, inplace=False)\n",
              "  (classifier): Linear(in_features=768, out_features=12, bias=True)\n",
              ")"
            ]
          },
          "metadata": {
            "tags": []
          },
          "execution_count": 75
        }
      ]
    },
    {
      "cell_type": "code",
      "metadata": {
        "id": "wl4RiSivSRCr"
      },
      "source": [
        "def get_params(isFull):\n",
        "  if isFull:\n",
        "    params = [{'params': [p for n, p in list(model.named_parameters())], 'weight_decay_rate': 0.01}]\n",
        "  else:\n",
        "    params = [{'params': [p for n, p in list(model.classifier.named_parameters())]}]\n",
        "  return params"
      ],
      "execution_count": null,
      "outputs": []
    },
    {
      "cell_type": "code",
      "metadata": {
        "colab": {
          "base_uri": "https://localhost:8080/"
        },
        "id": "9vlYuCOlUR_j",
        "outputId": "eda3b6c2-330c-4be3-8950-1b276b1045db"
      },
      "source": [
        "pip install seqeval"
      ],
      "execution_count": null,
      "outputs": [
        {
          "output_type": "stream",
          "text": [
            "Collecting seqeval\n",
            "\u001b[?25l  Downloading https://files.pythonhosted.org/packages/9d/2d/233c79d5b4e5ab1dbf111242299153f3caddddbb691219f363ad55ce783d/seqeval-1.2.2.tar.gz (43kB)\n",
            "\r\u001b[K     |███████▌                        | 10kB 24.7MB/s eta 0:00:01\r\u001b[K     |███████████████                 | 20kB 28.8MB/s eta 0:00:01\r\u001b[K     |██████████████████████▌         | 30kB 21.5MB/s eta 0:00:01\r\u001b[K     |██████████████████████████████  | 40kB 24.8MB/s eta 0:00:01\r\u001b[K     |████████████████████████████████| 51kB 6.9MB/s \n",
            "\u001b[?25hRequirement already satisfied: numpy>=1.14.0 in /usr/local/lib/python3.6/dist-packages (from seqeval) (1.18.5)\n",
            "Requirement already satisfied: scikit-learn>=0.21.3 in /usr/local/lib/python3.6/dist-packages (from seqeval) (0.22.2.post1)\n",
            "Requirement already satisfied: scipy>=0.17.0 in /usr/local/lib/python3.6/dist-packages (from scikit-learn>=0.21.3->seqeval) (1.4.1)\n",
            "Requirement already satisfied: joblib>=0.11 in /usr/local/lib/python3.6/dist-packages (from scikit-learn>=0.21.3->seqeval) (0.17.0)\n",
            "Building wheels for collected packages: seqeval\n",
            "  Building wheel for seqeval (setup.py) ... \u001b[?25l\u001b[?25hdone\n",
            "  Created wheel for seqeval: filename=seqeval-1.2.2-cp36-none-any.whl size=16171 sha256=44992a480b06385d321fe52b29ac29e5b5a03768653aeea8f9598956fe9d7bce\n",
            "  Stored in directory: /root/.cache/pip/wheels/52/df/1b/45d75646c37428f7e626214704a0e35bd3cfc32eda37e59e5f\n",
            "Successfully built seqeval\n",
            "Installing collected packages: seqeval\n",
            "Successfully installed seqeval-1.2.2\n"
          ],
          "name": "stdout"
        }
      ]
    },
    {
      "cell_type": "code",
      "metadata": {
        "id": "h0qynrxtUPup"
      },
      "source": [
        "from seqeval.metrics import f1_score, accuracy_score"
      ],
      "execution_count": null,
      "outputs": []
    },
    {
      "cell_type": "code",
      "metadata": {
        "id": "-XD9JTkeT4g5"
      },
      "source": [
        "from transformers import get_linear_schedule_with_warmup"
      ],
      "execution_count": null,
      "outputs": []
    },
    {
      "cell_type": "code",
      "metadata": {
        "id": "DF7ByPLbTf3L"
      },
      "source": [
        "optimizer = AdamW(get_params(False), lr=3e-5, eps=1e-8)"
      ],
      "execution_count": null,
      "outputs": []
    },
    {
      "cell_type": "code",
      "metadata": {
        "id": "TaKMsVKYT60G"
      },
      "source": [
        "epochs = 4\n",
        "max_norm = 1.0"
      ],
      "execution_count": null,
      "outputs": []
    },
    {
      "cell_type": "code",
      "metadata": {
        "id": "Cqpb5o_wUMZh"
      },
      "source": [
        "scheduler = get_linear_schedule_with_warmup(optimizer, num_warmup_steps=0, num_training_steps=len(train_loader) * epochs)"
      ],
      "execution_count": null,
      "outputs": []
    },
    {
      "cell_type": "code",
      "metadata": {
        "id": "2Wr4tfmsUVwO"
      },
      "source": [
        "def train(model, optimizer, epochs, max_norm, name):\n",
        "  train_losses, val_losses = [], []\n",
        "  best = float('inf')\n",
        "\n",
        "  for _ in trange(epochs, desc=\"Epoch\"):\n",
        "    # Training\n",
        "    model.train()\n",
        "    train_loss = 0\n",
        "\n",
        "    for batch in train_loader:\n",
        "      batch = tuple(b.to(device) for b in batch)\n",
        "      b_inp_ids, b_masks, b_out_ids = batch\n",
        "      \n",
        "      model.zero_grad()\n",
        "      \n",
        "      loss = model(b_inp_ids, token_type_ids=None, attention_mask=b_masks, labels=b_out_ids)[0]\n",
        "      loss.backward()\n",
        "      \n",
        "      train_loss += loss.item()\n",
        "      \n",
        "      torch.nn.utils.clip_grad_norm_(parameters=model.parameters(), max_norm=max_norm)\n",
        "      \n",
        "      optimizer.step()\n",
        "      scheduler.step()\n",
        "\n",
        "    train_loss /= len(train_loader)\n",
        "    print(\"Train loss:\", train_loss)\n",
        "\n",
        "    train_losses.append(train_loss)\n",
        "\n",
        "    # Validation\n",
        "    model.eval()\n",
        "    val_loss, val_acc = 0, 0\n",
        "    preds, outs = [], []\n",
        "    for batch in val_loader:\n",
        "      batch = tuple(b.to(device) for b in batch)\n",
        "      b_inp_ids, b_masks, b_out_ids = batch\n",
        "\n",
        "      with torch.no_grad():\n",
        "          result = model(b_inp_ids, token_type_ids=None, attention_mask=b_masks, labels=b_out_ids)\n",
        "      loss = result[0]\n",
        "      logits = result[1].detach().cpu().numpy()\n",
        "      b_out_ids = b_out_ids.cpu().numpy()\n",
        "\n",
        "      val_loss += loss.item()\n",
        "      preds.extend([list(p) for p in np.argmax(logits, axis=2)])\n",
        "      outs.extend(b_out_ids)\n",
        "\n",
        "    val_loss /= len(val_loader)\n",
        "    val_losses.append(val_loss)\n",
        "    print(\"Val loss:\", val_loss)\n",
        "    \n",
        "    if val_loss < best:\n",
        "      best = val_loss\n",
        "      torch.save(model.state_dict(), model_path + \"/NER\" + name + \".pt\")\n",
        "\n",
        "    pred_tags = [[tag_values[p_i] for p_i, o_i in zip(p, o) if tag_values[o_i] != \"PAD\"] for p, o in zip(preds, outs)]\n",
        "    out_tags = [[tag_values[o_i] for o_i in o if tag_values[o_i] != \"PAD\"] for o in outs]\n",
        "    print(\"Val Accuracy:\", accuracy_score(pred_tags, out_tags))\n",
        "    print(\"Val F1-Score:\", f1_score(pred_tags, out_tags))\n",
        "    print()\n",
        "  \n",
        "  return train_losses, val_losses"
      ],
      "execution_count": null,
      "outputs": []
    },
    {
      "cell_type": "code",
      "metadata": {
        "colab": {
          "base_uri": "https://localhost:8080/"
        },
        "id": "WU4JVsUwZhAG",
        "outputId": "e8d449d9-f9ba-45eb-fb64-4ff36117f48c"
      },
      "source": [
        "# 3e5_full_5tags (epochs 0 - 3)"
      ],
      "execution_count": null,
      "outputs": [
        {
          "output_type": "stream",
          "text": [
            "\rEpoch:   0%|          | 0/4 [00:00<?, ?it/s]"
          ],
          "name": "stderr"
        },
        {
          "output_type": "stream",
          "text": [
            "Train loss: 0.14390641512740002\n",
            "Val loss: 0.10101828801135222\n",
            "Val Accuracy: 0.9661310792763349\n"
          ],
          "name": "stdout"
        },
        {
          "output_type": "stream",
          "text": [
            "\rEpoch:  25%|██▌       | 1/4 [10:19<30:58, 619.47s/it]"
          ],
          "name": "stderr"
        },
        {
          "output_type": "stream",
          "text": [
            "Val F1-Score: 0.8474653676358654\n",
            "\n",
            "Train loss: 0.08258583054106663\n",
            "Val loss: 0.09546262636780739\n",
            "Val Accuracy: 0.9677901006196444\n"
          ],
          "name": "stdout"
        },
        {
          "output_type": "stream",
          "text": [
            "\rEpoch:  50%|█████     | 2/4 [20:42<20:40, 620.45s/it]"
          ],
          "name": "stderr"
        },
        {
          "output_type": "stream",
          "text": [
            "Val F1-Score: 0.8550489214612217\n",
            "\n",
            "Train loss: 0.059781067073345184\n",
            "Val loss: 0.10153220331917207\n",
            "Val Accuracy: 0.9694242366428044\n"
          ],
          "name": "stdout"
        },
        {
          "output_type": "stream",
          "text": [
            "\rEpoch:  75%|███████▌  | 3/4 [31:03<10:20, 620.56s/it]"
          ],
          "name": "stderr"
        },
        {
          "output_type": "stream",
          "text": [
            "Val F1-Score: 0.8636918382913807\n",
            "\n",
            "Train loss: 0.04445840759179365\n",
            "Val loss: 0.10972487047314644\n",
            "Val Accuracy: 0.9693495806823554\n"
          ],
          "name": "stdout"
        },
        {
          "output_type": "stream",
          "text": [
            "Epoch: 100%|██████████| 4/4 [41:24<00:00, 621.14s/it]"
          ],
          "name": "stderr"
        },
        {
          "output_type": "stream",
          "text": [
            "Val F1-Score: 0.8632939466941991\n",
            "\n"
          ],
          "name": "stdout"
        },
        {
          "output_type": "stream",
          "text": [
            "\n"
          ],
          "name": "stderr"
        }
      ]
    },
    {
      "cell_type": "code",
      "metadata": {
        "colab": {
          "base_uri": "https://localhost:8080/"
        },
        "id": "_pygwrbsDEkO",
        "outputId": "9ddb32fe-149a-43b3-ea6e-75c290d897d6"
      },
      "source": [
        "train_losses, val_losses = train(model, optimizer, epochs, max_norm, '3e5_5tags')"
      ],
      "execution_count": null,
      "outputs": [
        {
          "output_type": "stream",
          "text": [
            "\rEpoch:   0%|          | 0/4 [00:00<?, ?it/s]"
          ],
          "name": "stderr"
        },
        {
          "output_type": "stream",
          "text": [
            "Train loss: 1.0267201458152972\n",
            "Val loss: 0.5553157057364781\n",
            "Val Accuracy: 0.8490622381856943\n"
          ],
          "name": "stdout"
        },
        {
          "output_type": "stream",
          "text": [
            "\rEpoch:  25%|██▌       | 1/4 [09:48<29:24, 588.05s/it]"
          ],
          "name": "stderr"
        },
        {
          "output_type": "stream",
          "text": [
            "Val F1-Score: 0.0050977060322854725\n",
            "\n",
            "Train loss: 0.49612486550240625\n",
            "Val loss: 0.4326407462358475\n",
            "Val Accuracy: 0.86216850679784\n"
          ],
          "name": "stdout"
        },
        {
          "output_type": "stream",
          "text": [
            "\rEpoch:  50%|█████     | 2/4 [19:34<19:35, 587.55s/it]"
          ],
          "name": "stderr"
        },
        {
          "output_type": "stream",
          "text": [
            "Val F1-Score: 0.14090224579322988\n",
            "\n",
            "Train loss: 0.4275908034717356\n",
            "Val loss: 0.3926238755385081\n",
            "Val Accuracy: 0.8730931623435335\n"
          ],
          "name": "stdout"
        },
        {
          "output_type": "stream",
          "text": [
            "\rEpoch:  75%|███████▌  | 3/4 [29:22<09:47, 587.69s/it]"
          ],
          "name": "stderr"
        },
        {
          "output_type": "stream",
          "text": [
            "Val F1-Score: 0.23615143077196515\n",
            "\n",
            "Train loss: 0.404565294233846\n",
            "Val loss: 0.38174648662408195\n",
            "Val Accuracy: 0.876900616326429\n"
          ],
          "name": "stdout"
        },
        {
          "output_type": "stream",
          "text": [
            "Epoch: 100%|██████████| 4/4 [39:09<00:00, 587.46s/it]"
          ],
          "name": "stderr"
        },
        {
          "output_type": "stream",
          "text": [
            "Val F1-Score: 0.2696475419185582\n",
            "\n"
          ],
          "name": "stdout"
        },
        {
          "output_type": "stream",
          "text": [
            "\n"
          ],
          "name": "stderr"
        }
      ]
    },
    {
      "cell_type": "code",
      "metadata": {
        "id": "YG25wXx-aJ7D"
      },
      "source": [
        "import matplotlib.pyplot as plt\n",
        "%matplotlib inline\n",
        "import seaborn as sns"
      ],
      "execution_count": null,
      "outputs": []
    },
    {
      "cell_type": "code",
      "metadata": {
        "id": "pZ_MmREADbrj"
      },
      "source": [
        "# Use plot styling from seaborn.\n",
        "sns.set(style='darkgrid')\n",
        "\n",
        "# Increase the plot size and font size.\n",
        "sns.set(font_scale=1.5)\n",
        "plt.rcParams[\"figure.figsize\"] = (12,6)\n",
        "\n",
        "# Plot the learning curve.\n",
        "plt.plot(train_losses, 'b-o', label=\"train loss\")\n",
        "plt.plot(val_losses, 'r-o', label=\"val loss\")\n",
        "\n",
        "# Label the plot.\n",
        "plt.title(\"Learning curve\")\n",
        "plt.xlabel(\"Epoch\")\n",
        "plt.ylabel(\"Loss\")\n",
        "plt.legend()\n",
        "\n",
        "plt.show()"
      ],
      "execution_count": null,
      "outputs": []
    },
    {
      "cell_type": "code",
      "metadata": {
        "id": "qU0xwxS8aEXg",
        "colab": {
          "base_uri": "https://localhost:8080/",
          "height": 427
        },
        "outputId": "5ff7ea15-0dfe-4ce2-9b84-ef2702e68fca"
      },
      "source": [
        "# 3e5_full_5tags (epochs 0 - 3)"
      ],
      "execution_count": null,
      "outputs": [
        {
          "output_type": "display_data",
          "data": {
            "image/png": "[encoded data removed]",
            "text/plain": [
              "<Figure size 864x432 with 1 Axes>"
            ]
          },
          "metadata": {
            "tags": []
          }
        }
      ]
    },
    {
      "cell_type": "code",
      "metadata": {
        "colab": {
          "base_uri": "https://localhost:8080/"
        },
        "id": "URU846KR5fHy",
        "outputId": "faa1d3c0-2106-4b62-e69d-b1402eaab74d"
      },
      "source": [
        "model.load_state_dict(torch.load(model_path + \"/NER3e5_full_5tags.pt\"))"
      ],
      "execution_count": null,
      "outputs": [
        {
          "output_type": "execute_result",
          "data": {
            "text/plain": [
              "<All keys matched successfully>"
            ]
          },
          "metadata": {
            "tags": []
          },
          "execution_count": 73
        }
      ]
    }
  ]
}