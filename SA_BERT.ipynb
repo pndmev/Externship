{
  "nbformat": 4,
  "nbformat_minor": 0,
  "metadata": {
    "colab": {
      "name": "SA_BERT.ipynb",
      "provenance": [],
      "collapsed_sections": []
    },
    "kernelspec": {
      "name": "python3",
      "display_name": "Python 3"
    },
    "widgets": {
      "application/vnd.jupyter.widget-state+json": {
        "bd5b34c26aac42f18a9f2bda0a00291d": {
          "model_module": "@jupyter-widgets/controls",
          "model_name": "HBoxModel",
          "state": {
            "_view_name": "HBoxView",
            "_dom_classes": [],
            "_model_name": "HBoxModel",
            "_view_module": "@jupyter-widgets/controls",
            "_model_module_version": "1.5.0",
            "_view_count": null,
            "_view_module_version": "1.5.0",
            "box_style": "",
            "layout": "IPY_MODEL_472aeeafd10744799c6c2b5f52168c0f",
            "_model_module": "@jupyter-widgets/controls",
            "children": [
              "IPY_MODEL_0216a1766c4c498a8b4664ebbe98170e",
              "IPY_MODEL_a05bc57f4c8f41a4818b0af9c4ac312f"
            ]
          }
        },
        "472aeeafd10744799c6c2b5f52168c0f": {
          "model_module": "@jupyter-widgets/base",
          "model_name": "LayoutModel",
          "state": {
            "_view_name": "LayoutView",
            "grid_template_rows": null,
            "right": null,
            "justify_content": null,
            "_view_module": "@jupyter-widgets/base",
            "overflow": null,
            "_model_module_version": "1.2.0",
            "_view_count": null,
            "flex_flow": null,
            "width": null,
            "min_width": null,
            "border": null,
            "align_items": null,
            "bottom": null,
            "_model_module": "@jupyter-widgets/base",
            "top": null,
            "grid_column": null,
            "overflow_y": null,
            "overflow_x": null,
            "grid_auto_flow": null,
            "grid_area": null,
            "grid_template_columns": null,
            "flex": null,
            "_model_name": "LayoutModel",
            "justify_items": null,
            "grid_row": null,
            "max_height": null,
            "align_content": null,
            "visibility": null,
            "align_self": null,
            "height": null,
            "min_height": null,
            "padding": null,
            "grid_auto_rows": null,
            "grid_gap": null,
            "max_width": null,
            "order": null,
            "_view_module_version": "1.2.0",
            "grid_template_areas": null,
            "object_position": null,
            "object_fit": null,
            "grid_auto_columns": null,
            "margin": null,
            "display": null,
            "left": null
          }
        },
        "0216a1766c4c498a8b4664ebbe98170e": {
          "model_module": "@jupyter-widgets/controls",
          "model_name": "FloatProgressModel",
          "state": {
            "_view_name": "ProgressView",
            "style": "IPY_MODEL_a7dd1725ae1543ec87ee32b406cbbff9",
            "_dom_classes": [],
            "description": "Downloading: 100%",
            "_model_name": "FloatProgressModel",
            "bar_style": "success",
            "max": 213450,
            "_view_module": "@jupyter-widgets/controls",
            "_model_module_version": "1.5.0",
            "value": 213450,
            "_view_count": null,
            "_view_module_version": "1.5.0",
            "orientation": "horizontal",
            "min": 0,
            "description_tooltip": null,
            "_model_module": "@jupyter-widgets/controls",
            "layout": "IPY_MODEL_96449f802a6245ce86c745d379829f0d"
          }
        },
        "a05bc57f4c8f41a4818b0af9c4ac312f": {
          "model_module": "@jupyter-widgets/controls",
          "model_name": "HTMLModel",
          "state": {
            "_view_name": "HTMLView",
            "style": "IPY_MODEL_1990e5946eaa49d7b8ad1dec28084cf6",
            "_dom_classes": [],
            "description": "",
            "_model_name": "HTMLModel",
            "placeholder": "​",
            "_view_module": "@jupyter-widgets/controls",
            "_model_module_version": "1.5.0",
            "value": " 213k/213k [00:00&lt;00:00, 2.49MB/s]",
            "_view_count": null,
            "_view_module_version": "1.5.0",
            "description_tooltip": null,
            "_model_module": "@jupyter-widgets/controls",
            "layout": "IPY_MODEL_e3ca7c169d6c43dba986acac1f07f4bb"
          }
        },
        "a7dd1725ae1543ec87ee32b406cbbff9": {
          "model_module": "@jupyter-widgets/controls",
          "model_name": "ProgressStyleModel",
          "state": {
            "_view_name": "StyleView",
            "_model_name": "ProgressStyleModel",
            "description_width": "initial",
            "_view_module": "@jupyter-widgets/base",
            "_model_module_version": "1.5.0",
            "_view_count": null,
            "_view_module_version": "1.2.0",
            "bar_color": null,
            "_model_module": "@jupyter-widgets/controls"
          }
        },
        "96449f802a6245ce86c745d379829f0d": {
          "model_module": "@jupyter-widgets/base",
          "model_name": "LayoutModel",
          "state": {
            "_view_name": "LayoutView",
            "grid_template_rows": null,
            "right": null,
            "justify_content": null,
            "_view_module": "@jupyter-widgets/base",
            "overflow": null,
            "_model_module_version": "1.2.0",
            "_view_count": null,
            "flex_flow": null,
            "width": null,
            "min_width": null,
            "border": null,
            "align_items": null,
            "bottom": null,
            "_model_module": "@jupyter-widgets/base",
            "top": null,
            "grid_column": null,
            "overflow_y": null,
            "overflow_x": null,
            "grid_auto_flow": null,
            "grid_area": null,
            "grid_template_columns": null,
            "flex": null,
            "_model_name": "LayoutModel",
            "justify_items": null,
            "grid_row": null,
            "max_height": null,
            "align_content": null,
            "visibility": null,
            "align_self": null,
            "height": null,
            "min_height": null,
            "padding": null,
            "grid_auto_rows": null,
            "grid_gap": null,
            "max_width": null,
            "order": null,
            "_view_module_version": "1.2.0",
            "grid_template_areas": null,
            "object_position": null,
            "object_fit": null,
            "grid_auto_columns": null,
            "margin": null,
            "display": null,
            "left": null
          }
        },
        "1990e5946eaa49d7b8ad1dec28084cf6": {
          "model_module": "@jupyter-widgets/controls",
          "model_name": "DescriptionStyleModel",
          "state": {
            "_view_name": "StyleView",
            "_model_name": "DescriptionStyleModel",
            "description_width": "",
            "_view_module": "@jupyter-widgets/base",
            "_model_module_version": "1.5.0",
            "_view_count": null,
            "_view_module_version": "1.2.0",
            "_model_module": "@jupyter-widgets/controls"
          }
        },
        "e3ca7c169d6c43dba986acac1f07f4bb": {
          "model_module": "@jupyter-widgets/base",
          "model_name": "LayoutModel",
          "state": {
            "_view_name": "LayoutView",
            "grid_template_rows": null,
            "right": null,
            "justify_content": null,
            "_view_module": "@jupyter-widgets/base",
            "overflow": null,
            "_model_module_version": "1.2.0",
            "_view_count": null,
            "flex_flow": null,
            "width": null,
            "min_width": null,
            "border": null,
            "align_items": null,
            "bottom": null,
            "_model_module": "@jupyter-widgets/base",
            "top": null,
            "grid_column": null,
            "overflow_y": null,
            "overflow_x": null,
            "grid_auto_flow": null,
            "grid_area": null,
            "grid_template_columns": null,
            "flex": null,
            "_model_name": "LayoutModel",
            "justify_items": null,
            "grid_row": null,
            "max_height": null,
            "align_content": null,
            "visibility": null,
            "align_self": null,
            "height": null,
            "min_height": null,
            "padding": null,
            "grid_auto_rows": null,
            "grid_gap": null,
            "max_width": null,
            "order": null,
            "_view_module_version": "1.2.0",
            "grid_template_areas": null,
            "object_position": null,
            "object_fit": null,
            "grid_auto_columns": null,
            "margin": null,
            "display": null,
            "left": null
          }
        },
        "704dc3f89cbf4f0e8faa5ec9d2b4f8ec": {
          "model_module": "@jupyter-widgets/controls",
          "model_name": "HBoxModel",
          "state": {
            "_view_name": "HBoxView",
            "_dom_classes": [],
            "_model_name": "HBoxModel",
            "_view_module": "@jupyter-widgets/controls",
            "_model_module_version": "1.5.0",
            "_view_count": null,
            "_view_module_version": "1.5.0",
            "box_style": "",
            "layout": "IPY_MODEL_2940e244280448429f1c9911a1e987ce",
            "_model_module": "@jupyter-widgets/controls",
            "children": [
              "IPY_MODEL_123f7359387648edbeb773bdeb69a7ca",
              "IPY_MODEL_d0546711597f4b018b3349c884783c58"
            ]
          }
        },
        "2940e244280448429f1c9911a1e987ce": {
          "model_module": "@jupyter-widgets/base",
          "model_name": "LayoutModel",
          "state": {
            "_view_name": "LayoutView",
            "grid_template_rows": null,
            "right": null,
            "justify_content": null,
            "_view_module": "@jupyter-widgets/base",
            "overflow": null,
            "_model_module_version": "1.2.0",
            "_view_count": null,
            "flex_flow": null,
            "width": null,
            "min_width": null,
            "border": null,
            "align_items": null,
            "bottom": null,
            "_model_module": "@jupyter-widgets/base",
            "top": null,
            "grid_column": null,
            "overflow_y": null,
            "overflow_x": null,
            "grid_auto_flow": null,
            "grid_area": null,
            "grid_template_columns": null,
            "flex": null,
            "_model_name": "LayoutModel",
            "justify_items": null,
            "grid_row": null,
            "max_height": null,
            "align_content": null,
            "visibility": null,
            "align_self": null,
            "height": null,
            "min_height": null,
            "padding": null,
            "grid_auto_rows": null,
            "grid_gap": null,
            "max_width": null,
            "order": null,
            "_view_module_version": "1.2.0",
            "grid_template_areas": null,
            "object_position": null,
            "object_fit": null,
            "grid_auto_columns": null,
            "margin": null,
            "display": null,
            "left": null
          }
        },
        "123f7359387648edbeb773bdeb69a7ca": {
          "model_module": "@jupyter-widgets/controls",
          "model_name": "FloatProgressModel",
          "state": {
            "_view_name": "ProgressView",
            "style": "IPY_MODEL_b98e86482cd7491f99e755f9aae48c25",
            "_dom_classes": [],
            "description": "Downloading: 100%",
            "_model_name": "FloatProgressModel",
            "bar_style": "success",
            "max": 433,
            "_view_module": "@jupyter-widgets/controls",
            "_model_module_version": "1.5.0",
            "value": 433,
            "_view_count": null,
            "_view_module_version": "1.5.0",
            "orientation": "horizontal",
            "min": 0,
            "description_tooltip": null,
            "_model_module": "@jupyter-widgets/controls",
            "layout": "IPY_MODEL_49f8344a22bd4fe79c8b02463aa21ebd"
          }
        },
        "d0546711597f4b018b3349c884783c58": {
          "model_module": "@jupyter-widgets/controls",
          "model_name": "HTMLModel",
          "state": {
            "_view_name": "HTMLView",
            "style": "IPY_MODEL_303e70b4997342cfbd2c619915e7867b",
            "_dom_classes": [],
            "description": "",
            "_model_name": "HTMLModel",
            "placeholder": "​",
            "_view_module": "@jupyter-widgets/controls",
            "_model_module_version": "1.5.0",
            "value": " 433/433 [00:00&lt;00:00, 2.14kB/s]",
            "_view_count": null,
            "_view_module_version": "1.5.0",
            "description_tooltip": null,
            "_model_module": "@jupyter-widgets/controls",
            "layout": "IPY_MODEL_1e719d49a29045f6871174943efa7d9e"
          }
        },
        "b98e86482cd7491f99e755f9aae48c25": {
          "model_module": "@jupyter-widgets/controls",
          "model_name": "ProgressStyleModel",
          "state": {
            "_view_name": "StyleView",
            "_model_name": "ProgressStyleModel",
            "description_width": "initial",
            "_view_module": "@jupyter-widgets/base",
            "_model_module_version": "1.5.0",
            "_view_count": null,
            "_view_module_version": "1.2.0",
            "bar_color": null,
            "_model_module": "@jupyter-widgets/controls"
          }
        },
        "49f8344a22bd4fe79c8b02463aa21ebd": {
          "model_module": "@jupyter-widgets/base",
          "model_name": "LayoutModel",
          "state": {
            "_view_name": "LayoutView",
            "grid_template_rows": null,
            "right": null,
            "justify_content": null,
            "_view_module": "@jupyter-widgets/base",
            "overflow": null,
            "_model_module_version": "1.2.0",
            "_view_count": null,
            "flex_flow": null,
            "width": null,
            "min_width": null,
            "border": null,
            "align_items": null,
            "bottom": null,
            "_model_module": "@jupyter-widgets/base",
            "top": null,
            "grid_column": null,
            "overflow_y": null,
            "overflow_x": null,
            "grid_auto_flow": null,
            "grid_area": null,
            "grid_template_columns": null,
            "flex": null,
            "_model_name": "LayoutModel",
            "justify_items": null,
            "grid_row": null,
            "max_height": null,
            "align_content": null,
            "visibility": null,
            "align_self": null,
            "height": null,
            "min_height": null,
            "padding": null,
            "grid_auto_rows": null,
            "grid_gap": null,
            "max_width": null,
            "order": null,
            "_view_module_version": "1.2.0",
            "grid_template_areas": null,
            "object_position": null,
            "object_fit": null,
            "grid_auto_columns": null,
            "margin": null,
            "display": null,
            "left": null
          }
        },
        "303e70b4997342cfbd2c619915e7867b": {
          "model_module": "@jupyter-widgets/controls",
          "model_name": "DescriptionStyleModel",
          "state": {
            "_view_name": "StyleView",
            "_model_name": "DescriptionStyleModel",
            "description_width": "",
            "_view_module": "@jupyter-widgets/base",
            "_model_module_version": "1.5.0",
            "_view_count": null,
            "_view_module_version": "1.2.0",
            "_model_module": "@jupyter-widgets/controls"
          }
        },
        "1e719d49a29045f6871174943efa7d9e": {
          "model_module": "@jupyter-widgets/base",
          "model_name": "LayoutModel",
          "state": {
            "_view_name": "LayoutView",
            "grid_template_rows": null,
            "right": null,
            "justify_content": null,
            "_view_module": "@jupyter-widgets/base",
            "overflow": null,
            "_model_module_version": "1.2.0",
            "_view_count": null,
            "flex_flow": null,
            "width": null,
            "min_width": null,
            "border": null,
            "align_items": null,
            "bottom": null,
            "_model_module": "@jupyter-widgets/base",
            "top": null,
            "grid_column": null,
            "overflow_y": null,
            "overflow_x": null,
            "grid_auto_flow": null,
            "grid_area": null,
            "grid_template_columns": null,
            "flex": null,
            "_model_name": "LayoutModel",
            "justify_items": null,
            "grid_row": null,
            "max_height": null,
            "align_content": null,
            "visibility": null,
            "align_self": null,
            "height": null,
            "min_height": null,
            "padding": null,
            "grid_auto_rows": null,
            "grid_gap": null,
            "max_width": null,
            "order": null,
            "_view_module_version": "1.2.0",
            "grid_template_areas": null,
            "object_position": null,
            "object_fit": null,
            "grid_auto_columns": null,
            "margin": null,
            "display": null,
            "left": null
          }
        },
        "ccb7c155b367485685b7f1e7074b9866": {
          "model_module": "@jupyter-widgets/controls",
          "model_name": "HBoxModel",
          "state": {
            "_view_name": "HBoxView",
            "_dom_classes": [],
            "_model_name": "HBoxModel",
            "_view_module": "@jupyter-widgets/controls",
            "_model_module_version": "1.5.0",
            "_view_count": null,
            "_view_module_version": "1.5.0",
            "box_style": "",
            "layout": "IPY_MODEL_a0dfe9bf23a94f02a6bf625e5854f7f1",
            "_model_module": "@jupyter-widgets/controls",
            "children": [
              "IPY_MODEL_f1f7e2db000f4642ae24d4cd080fc48c",
              "IPY_MODEL_64bbe0f4b1784045bc084799677269bc"
            ]
          }
        },
        "a0dfe9bf23a94f02a6bf625e5854f7f1": {
          "model_module": "@jupyter-widgets/base",
          "model_name": "LayoutModel",
          "state": {
            "_view_name": "LayoutView",
            "grid_template_rows": null,
            "right": null,
            "justify_content": null,
            "_view_module": "@jupyter-widgets/base",
            "overflow": null,
            "_model_module_version": "1.2.0",
            "_view_count": null,
            "flex_flow": null,
            "width": null,
            "min_width": null,
            "border": null,
            "align_items": null,
            "bottom": null,
            "_model_module": "@jupyter-widgets/base",
            "top": null,
            "grid_column": null,
            "overflow_y": null,
            "overflow_x": null,
            "grid_auto_flow": null,
            "grid_area": null,
            "grid_template_columns": null,
            "flex": null,
            "_model_name": "LayoutModel",
            "justify_items": null,
            "grid_row": null,
            "max_height": null,
            "align_content": null,
            "visibility": null,
            "align_self": null,
            "height": null,
            "min_height": null,
            "padding": null,
            "grid_auto_rows": null,
            "grid_gap": null,
            "max_width": null,
            "order": null,
            "_view_module_version": "1.2.0",
            "grid_template_areas": null,
            "object_position": null,
            "object_fit": null,
            "grid_auto_columns": null,
            "margin": null,
            "display": null,
            "left": null
          }
        },
        "f1f7e2db000f4642ae24d4cd080fc48c": {
          "model_module": "@jupyter-widgets/controls",
          "model_name": "FloatProgressModel",
          "state": {
            "_view_name": "ProgressView",
            "style": "IPY_MODEL_e076f179310a41f7a4afa0aa6841a270",
            "_dom_classes": [],
            "description": "Downloading: 100%",
            "_model_name": "FloatProgressModel",
            "bar_style": "success",
            "max": 435779157,
            "_view_module": "@jupyter-widgets/controls",
            "_model_module_version": "1.5.0",
            "value": 435779157,
            "_view_count": null,
            "_view_module_version": "1.5.0",
            "orientation": "horizontal",
            "min": 0,
            "description_tooltip": null,
            "_model_module": "@jupyter-widgets/controls",
            "layout": "IPY_MODEL_96d10e2e1910433d8502b29f4abac219"
          }
        },
        "64bbe0f4b1784045bc084799677269bc": {
          "model_module": "@jupyter-widgets/controls",
          "model_name": "HTMLModel",
          "state": {
            "_view_name": "HTMLView",
            "style": "IPY_MODEL_a6c2328c958f40e98107ac4339febf09",
            "_dom_classes": [],
            "description": "",
            "_model_name": "HTMLModel",
            "placeholder": "​",
            "_view_module": "@jupyter-widgets/controls",
            "_model_module_version": "1.5.0",
            "value": " 436M/436M [00:23&lt;00:00, 18.6MB/s]",
            "_view_count": null,
            "_view_module_version": "1.5.0",
            "description_tooltip": null,
            "_model_module": "@jupyter-widgets/controls",
            "layout": "IPY_MODEL_155586e9750f46a99a5ddbc7739d013e"
          }
        },
        "e076f179310a41f7a4afa0aa6841a270": {
          "model_module": "@jupyter-widgets/controls",
          "model_name": "ProgressStyleModel",
          "state": {
            "_view_name": "StyleView",
            "_model_name": "ProgressStyleModel",
            "description_width": "initial",
            "_view_module": "@jupyter-widgets/base",
            "_model_module_version": "1.5.0",
            "_view_count": null,
            "_view_module_version": "1.2.0",
            "bar_color": null,
            "_model_module": "@jupyter-widgets/controls"
          }
        },
        "96d10e2e1910433d8502b29f4abac219": {
          "model_module": "@jupyter-widgets/base",
          "model_name": "LayoutModel",
          "state": {
            "_view_name": "LayoutView",
            "grid_template_rows": null,
            "right": null,
            "justify_content": null,
            "_view_module": "@jupyter-widgets/base",
            "overflow": null,
            "_model_module_version": "1.2.0",
            "_view_count": null,
            "flex_flow": null,
            "width": null,
            "min_width": null,
            "border": null,
            "align_items": null,
            "bottom": null,
            "_model_module": "@jupyter-widgets/base",
            "top": null,
            "grid_column": null,
            "overflow_y": null,
            "overflow_x": null,
            "grid_auto_flow": null,
            "grid_area": null,
            "grid_template_columns": null,
            "flex": null,
            "_model_name": "LayoutModel",
            "justify_items": null,
            "grid_row": null,
            "max_height": null,
            "align_content": null,
            "visibility": null,
            "align_self": null,
            "height": null,
            "min_height": null,
            "padding": null,
            "grid_auto_rows": null,
            "grid_gap": null,
            "max_width": null,
            "order": null,
            "_view_module_version": "1.2.0",
            "grid_template_areas": null,
            "object_position": null,
            "object_fit": null,
            "grid_auto_columns": null,
            "margin": null,
            "display": null,
            "left": null
          }
        },
        "a6c2328c958f40e98107ac4339febf09": {
          "model_module": "@jupyter-widgets/controls",
          "model_name": "DescriptionStyleModel",
          "state": {
            "_view_name": "StyleView",
            "_model_name": "DescriptionStyleModel",
            "description_width": "",
            "_view_module": "@jupyter-widgets/base",
            "_model_module_version": "1.5.0",
            "_view_count": null,
            "_view_module_version": "1.2.0",
            "_model_module": "@jupyter-widgets/controls"
          }
        },
        "155586e9750f46a99a5ddbc7739d013e": {
          "model_module": "@jupyter-widgets/base",
          "model_name": "LayoutModel",
          "state": {
            "_view_name": "LayoutView",
            "grid_template_rows": null,
            "right": null,
            "justify_content": null,
            "_view_module": "@jupyter-widgets/base",
            "overflow": null,
            "_model_module_version": "1.2.0",
            "_view_count": null,
            "flex_flow": null,
            "width": null,
            "min_width": null,
            "border": null,
            "align_items": null,
            "bottom": null,
            "_model_module": "@jupyter-widgets/base",
            "top": null,
            "grid_column": null,
            "overflow_y": null,
            "overflow_x": null,
            "grid_auto_flow": null,
            "grid_area": null,
            "grid_template_columns": null,
            "flex": null,
            "_model_name": "LayoutModel",
            "justify_items": null,
            "grid_row": null,
            "max_height": null,
            "align_content": null,
            "visibility": null,
            "align_self": null,
            "height": null,
            "min_height": null,
            "padding": null,
            "grid_auto_rows": null,
            "grid_gap": null,
            "max_width": null,
            "order": null,
            "_view_module_version": "1.2.0",
            "grid_template_areas": null,
            "object_position": null,
            "object_fit": null,
            "grid_auto_columns": null,
            "margin": null,
            "display": null,
            "left": null
          }
        }
      }
    }
  },
  "cells": [
    {
      "cell_type": "markdown",
      "metadata": {
        "id": "rS4wLlOMZVFU"
      },
      "source": [
        "Решение путем внутренней агрегации семантики"
      ]
    },
    {
      "cell_type": "code",
      "metadata": {
        "colab": {
          "base_uri": "https://localhost:8080/"
        },
        "id": "Sob4ykR0ZSg0",
        "outputId": "bf764d9d-10d8-443d-f05a-a17735478183"
      },
      "source": [
        "from google.colab import drive\n",
        "drive.mount('/content/gdrive')"
      ],
      "execution_count": null,
      "outputs": [
        {
          "output_type": "stream",
          "text": [
            "Mounted at /content/gdrive\n"
          ],
          "name": "stdout"
        }
      ]
    },
    {
      "cell_type": "code",
      "metadata": {
        "id": "Q4BYWklsaC5V"
      },
      "source": [
        "model_path = \"/content/gdrive/My Drive/Models/\""
      ],
      "execution_count": null,
      "outputs": []
    },
    {
      "cell_type": "code",
      "metadata": {
        "colab": {
          "base_uri": "https://localhost:8080/"
        },
        "id": "Ah69Q36LaIDU",
        "outputId": "9340a43c-a6de-45e0-875f-3e0905c64e0b"
      },
      "source": [
        "pip install transformers"
      ],
      "execution_count": null,
      "outputs": [
        {
          "output_type": "stream",
          "text": [
            "Collecting transformers\n",
            "\u001b[?25l  Downloading https://files.pythonhosted.org/packages/ed/db/98c3ea1a78190dac41c0127a063abf92bd01b4b0b6970a6db1c2f5b66fa0/transformers-4.0.1-py3-none-any.whl (1.4MB)\n",
            "\r\u001b[K     |▎                               | 10kB 18.4MB/s eta 0:00:01\r\u001b[K     |▌                               | 20kB 22.0MB/s eta 0:00:01\r\u001b[K     |▊                               | 30kB 15.2MB/s eta 0:00:01\r\u001b[K     |█                               | 40kB 15.2MB/s eta 0:00:01\r\u001b[K     |█▏                              | 51kB 11.5MB/s eta 0:00:01\r\u001b[K     |█▌                              | 61kB 10.5MB/s eta 0:00:01\r\u001b[K     |█▊                              | 71kB 10.3MB/s eta 0:00:01\r\u001b[K     |██                              | 81kB 10.4MB/s eta 0:00:01\r\u001b[K     |██▏                             | 92kB 9.7MB/s eta 0:00:01\r\u001b[K     |██▍                             | 102kB 9.9MB/s eta 0:00:01\r\u001b[K     |██▋                             | 112kB 9.9MB/s eta 0:00:01\r\u001b[K     |███                             | 122kB 9.9MB/s eta 0:00:01\r\u001b[K     |███▏                            | 133kB 9.9MB/s eta 0:00:01\r\u001b[K     |███▍                            | 143kB 9.9MB/s eta 0:00:01\r\u001b[K     |███▋                            | 153kB 9.9MB/s eta 0:00:01\r\u001b[K     |███▉                            | 163kB 9.9MB/s eta 0:00:01\r\u001b[K     |████▏                           | 174kB 9.9MB/s eta 0:00:01\r\u001b[K     |████▍                           | 184kB 9.9MB/s eta 0:00:01\r\u001b[K     |████▋                           | 194kB 9.9MB/s eta 0:00:01\r\u001b[K     |████▉                           | 204kB 9.9MB/s eta 0:00:01\r\u001b[K     |█████                           | 215kB 9.9MB/s eta 0:00:01\r\u001b[K     |█████▎                          | 225kB 9.9MB/s eta 0:00:01\r\u001b[K     |█████▋                          | 235kB 9.9MB/s eta 0:00:01\r\u001b[K     |█████▉                          | 245kB 9.9MB/s eta 0:00:01\r\u001b[K     |██████                          | 256kB 9.9MB/s eta 0:00:01\r\u001b[K     |██████▎                         | 266kB 9.9MB/s eta 0:00:01\r\u001b[K     |██████▌                         | 276kB 9.9MB/s eta 0:00:01\r\u001b[K     |██████▉                         | 286kB 9.9MB/s eta 0:00:01\r\u001b[K     |███████                         | 296kB 9.9MB/s eta 0:00:01\r\u001b[K     |███████▎                        | 307kB 9.9MB/s eta 0:00:01\r\u001b[K     |███████▌                        | 317kB 9.9MB/s eta 0:00:01\r\u001b[K     |███████▊                        | 327kB 9.9MB/s eta 0:00:01\r\u001b[K     |████████                        | 337kB 9.9MB/s eta 0:00:01\r\u001b[K     |████████▎                       | 348kB 9.9MB/s eta 0:00:01\r\u001b[K     |████████▌                       | 358kB 9.9MB/s eta 0:00:01\r\u001b[K     |████████▊                       | 368kB 9.9MB/s eta 0:00:01\r\u001b[K     |█████████                       | 378kB 9.9MB/s eta 0:00:01\r\u001b[K     |█████████▏                      | 389kB 9.9MB/s eta 0:00:01\r\u001b[K     |█████████▌                      | 399kB 9.9MB/s eta 0:00:01\r\u001b[K     |█████████▊                      | 409kB 9.9MB/s eta 0:00:01\r\u001b[K     |██████████                      | 419kB 9.9MB/s eta 0:00:01\r\u001b[K     |██████████▏                     | 430kB 9.9MB/s eta 0:00:01\r\u001b[K     |██████████▍                     | 440kB 9.9MB/s eta 0:00:01\r\u001b[K     |██████████▋                     | 450kB 9.9MB/s eta 0:00:01\r\u001b[K     |███████████                     | 460kB 9.9MB/s eta 0:00:01\r\u001b[K     |███████████▏                    | 471kB 9.9MB/s eta 0:00:01\r\u001b[K     |███████████▍                    | 481kB 9.9MB/s eta 0:00:01\r\u001b[K     |███████████▋                    | 491kB 9.9MB/s eta 0:00:01\r\u001b[K     |███████████▉                    | 501kB 9.9MB/s eta 0:00:01\r\u001b[K     |████████████▏                   | 512kB 9.9MB/s eta 0:00:01\r\u001b[K     |████████████▍                   | 522kB 9.9MB/s eta 0:00:01\r\u001b[K     |████████████▋                   | 532kB 9.9MB/s eta 0:00:01\r\u001b[K     |████████████▉                   | 542kB 9.9MB/s eta 0:00:01\r\u001b[K     |█████████████                   | 552kB 9.9MB/s eta 0:00:01\r\u001b[K     |█████████████▎                  | 563kB 9.9MB/s eta 0:00:01\r\u001b[K     |█████████████▋                  | 573kB 9.9MB/s eta 0:00:01\r\u001b[K     |█████████████▉                  | 583kB 9.9MB/s eta 0:00:01\r\u001b[K     |██████████████                  | 593kB 9.9MB/s eta 0:00:01\r\u001b[K     |██████████████▎                 | 604kB 9.9MB/s eta 0:00:01\r\u001b[K     |██████████████▌                 | 614kB 9.9MB/s eta 0:00:01\r\u001b[K     |██████████████▉                 | 624kB 9.9MB/s eta 0:00:01\r\u001b[K     |███████████████                 | 634kB 9.9MB/s eta 0:00:01\r\u001b[K     |███████████████▎                | 645kB 9.9MB/s eta 0:00:01\r\u001b[K     |███████████████▌                | 655kB 9.9MB/s eta 0:00:01\r\u001b[K     |███████████████▊                | 665kB 9.9MB/s eta 0:00:01\r\u001b[K     |████████████████                | 675kB 9.9MB/s eta 0:00:01\r\u001b[K     |████████████████▎               | 686kB 9.9MB/s eta 0:00:01\r\u001b[K     |████████████████▌               | 696kB 9.9MB/s eta 0:00:01\r\u001b[K     |████████████████▊               | 706kB 9.9MB/s eta 0:00:01\r\u001b[K     |█████████████████               | 716kB 9.9MB/s eta 0:00:01\r\u001b[K     |█████████████████▏              | 727kB 9.9MB/s eta 0:00:01\r\u001b[K     |█████████████████▌              | 737kB 9.9MB/s eta 0:00:01\r\u001b[K     |█████████████████▊              | 747kB 9.9MB/s eta 0:00:01\r\u001b[K     |██████████████████              | 757kB 9.9MB/s eta 0:00:01\r\u001b[K     |██████████████████▏             | 768kB 9.9MB/s eta 0:00:01\r\u001b[K     |██████████████████▍             | 778kB 9.9MB/s eta 0:00:01\r\u001b[K     |██████████████████▋             | 788kB 9.9MB/s eta 0:00:01\r\u001b[K     |███████████████████             | 798kB 9.9MB/s eta 0:00:01\r\u001b[K     |███████████████████▏            | 808kB 9.9MB/s eta 0:00:01\r\u001b[K     |███████████████████▍            | 819kB 9.9MB/s eta 0:00:01\r\u001b[K     |███████████████████▋            | 829kB 9.9MB/s eta 0:00:01\r\u001b[K     |███████████████████▉            | 839kB 9.9MB/s eta 0:00:01\r\u001b[K     |████████████████████▏           | 849kB 9.9MB/s eta 0:00:01\r\u001b[K     |████████████████████▍           | 860kB 9.9MB/s eta 0:00:01\r\u001b[K     |████████████████████▋           | 870kB 9.9MB/s eta 0:00:01\r\u001b[K     |████████████████████▉           | 880kB 9.9MB/s eta 0:00:01\r\u001b[K     |█████████████████████           | 890kB 9.9MB/s eta 0:00:01\r\u001b[K     |█████████████████████▎          | 901kB 9.9MB/s eta 0:00:01\r\u001b[K     |█████████████████████▋          | 911kB 9.9MB/s eta 0:00:01\r\u001b[K     |█████████████████████▉          | 921kB 9.9MB/s eta 0:00:01\r\u001b[K     |██████████████████████          | 931kB 9.9MB/s eta 0:00:01\r\u001b[K     |██████████████████████▎         | 942kB 9.9MB/s eta 0:00:01\r\u001b[K     |██████████████████████▌         | 952kB 9.9MB/s eta 0:00:01\r\u001b[K     |██████████████████████▊         | 962kB 9.9MB/s eta 0:00:01\r\u001b[K     |███████████████████████         | 972kB 9.9MB/s eta 0:00:01\r\u001b[K     |███████████████████████▎        | 983kB 9.9MB/s eta 0:00:01\r\u001b[K     |███████████████████████▌        | 993kB 9.9MB/s eta 0:00:01\r\u001b[K     |███████████████████████▊        | 1.0MB 9.9MB/s eta 0:00:01\r\u001b[K     |████████████████████████        | 1.0MB 9.9MB/s eta 0:00:01\r\u001b[K     |████████████████████████▎       | 1.0MB 9.9MB/s eta 0:00:01\r\u001b[K     |████████████████████████▌       | 1.0MB 9.9MB/s eta 0:00:01\r\u001b[K     |████████████████████████▊       | 1.0MB 9.9MB/s eta 0:00:01\r\u001b[K     |█████████████████████████       | 1.1MB 9.9MB/s eta 0:00:01\r\u001b[K     |█████████████████████████▏      | 1.1MB 9.9MB/s eta 0:00:01\r\u001b[K     |█████████████████████████▍      | 1.1MB 9.9MB/s eta 0:00:01\r\u001b[K     |█████████████████████████▊      | 1.1MB 9.9MB/s eta 0:00:01\r\u001b[K     |██████████████████████████      | 1.1MB 9.9MB/s eta 0:00:01\r\u001b[K     |██████████████████████████▏     | 1.1MB 9.9MB/s eta 0:00:01\r\u001b[K     |██████████████████████████▍     | 1.1MB 9.9MB/s eta 0:00:01\r\u001b[K     |██████████████████████████▋     | 1.1MB 9.9MB/s eta 0:00:01\r\u001b[K     |███████████████████████████     | 1.1MB 9.9MB/s eta 0:00:01\r\u001b[K     |███████████████████████████▏    | 1.1MB 9.9MB/s eta 0:00:01\r\u001b[K     |███████████████████████████▍    | 1.2MB 9.9MB/s eta 0:00:01\r\u001b[K     |███████████████████████████▋    | 1.2MB 9.9MB/s eta 0:00:01\r\u001b[K     |███████████████████████████▉    | 1.2MB 9.9MB/s eta 0:00:01\r\u001b[K     |████████████████████████████    | 1.2MB 9.9MB/s eta 0:00:01\r\u001b[K     |████████████████████████████▍   | 1.2MB 9.9MB/s eta 0:00:01\r\u001b[K     |████████████████████████████▋   | 1.2MB 9.9MB/s eta 0:00:01\r\u001b[K     |████████████████████████████▉   | 1.2MB 9.9MB/s eta 0:00:01\r\u001b[K     |█████████████████████████████   | 1.2MB 9.9MB/s eta 0:00:01\r\u001b[K     |█████████████████████████████▎  | 1.2MB 9.9MB/s eta 0:00:01\r\u001b[K     |█████████████████████████████▋  | 1.2MB 9.9MB/s eta 0:00:01\r\u001b[K     |█████████████████████████████▉  | 1.3MB 9.9MB/s eta 0:00:01\r\u001b[K     |██████████████████████████████  | 1.3MB 9.9MB/s eta 0:00:01\r\u001b[K     |██████████████████████████████▎ | 1.3MB 9.9MB/s eta 0:00:01\r\u001b[K     |██████████████████████████████▌ | 1.3MB 9.9MB/s eta 0:00:01\r\u001b[K     |██████████████████████████████▊ | 1.3MB 9.9MB/s eta 0:00:01\r\u001b[K     |███████████████████████████████ | 1.3MB 9.9MB/s eta 0:00:01\r\u001b[K     |███████████████████████████████▎| 1.3MB 9.9MB/s eta 0:00:01\r\u001b[K     |███████████████████████████████▌| 1.3MB 9.9MB/s eta 0:00:01\r\u001b[K     |███████████████████████████████▊| 1.3MB 9.9MB/s eta 0:00:01\r\u001b[K     |████████████████████████████████| 1.4MB 9.9MB/s eta 0:00:01\r\u001b[K     |████████████████████████████████| 1.4MB 9.9MB/s \n",
            "\u001b[?25hRequirement already satisfied: tqdm>=4.27 in /usr/local/lib/python3.6/dist-packages (from transformers) (4.41.1)\n",
            "Requirement already satisfied: packaging in /usr/local/lib/python3.6/dist-packages (from transformers) (20.7)\n",
            "Requirement already satisfied: numpy in /usr/local/lib/python3.6/dist-packages (from transformers) (1.18.5)\n",
            "Requirement already satisfied: regex!=2019.12.17 in /usr/local/lib/python3.6/dist-packages (from transformers) (2019.12.20)\n",
            "Requirement already satisfied: requests in /usr/local/lib/python3.6/dist-packages (from transformers) (2.23.0)\n",
            "Collecting tokenizers==0.9.4\n",
            "\u001b[?25l  Downloading https://files.pythonhosted.org/packages/0f/1c/e789a8b12e28be5bc1ce2156cf87cb522b379be9cadc7ad8091a4cc107c4/tokenizers-0.9.4-cp36-cp36m-manylinux2010_x86_64.whl (2.9MB)\n",
            "\u001b[K     |████████████████████████████████| 2.9MB 45.0MB/s \n",
            "\u001b[?25hRequirement already satisfied: filelock in /usr/local/lib/python3.6/dist-packages (from transformers) (3.0.12)\n",
            "Requirement already satisfied: dataclasses; python_version < \"3.7\" in /usr/local/lib/python3.6/dist-packages (from transformers) (0.8)\n",
            "Collecting sacremoses\n",
            "\u001b[?25l  Downloading https://files.pythonhosted.org/packages/7d/34/09d19aff26edcc8eb2a01bed8e98f13a1537005d31e95233fd48216eed10/sacremoses-0.0.43.tar.gz (883kB)\n",
            "\u001b[K     |████████████████████████████████| 890kB 78.3MB/s \n",
            "\u001b[?25hRequirement already satisfied: pyparsing>=2.0.2 in /usr/local/lib/python3.6/dist-packages (from packaging->transformers) (2.4.7)\n",
            "Requirement already satisfied: chardet<4,>=3.0.2 in /usr/local/lib/python3.6/dist-packages (from requests->transformers) (3.0.4)\n",
            "Requirement already satisfied: idna<3,>=2.5 in /usr/local/lib/python3.6/dist-packages (from requests->transformers) (2.10)\n",
            "Requirement already satisfied: certifi>=2017.4.17 in /usr/local/lib/python3.6/dist-packages (from requests->transformers) (2020.12.5)\n",
            "Requirement already satisfied: urllib3!=1.25.0,!=1.25.1,<1.26,>=1.21.1 in /usr/local/lib/python3.6/dist-packages (from requests->transformers) (1.24.3)\n",
            "Requirement already satisfied: six in /usr/local/lib/python3.6/dist-packages (from sacremoses->transformers) (1.15.0)\n",
            "Requirement already satisfied: click in /usr/local/lib/python3.6/dist-packages (from sacremoses->transformers) (7.1.2)\n",
            "Requirement already satisfied: joblib in /usr/local/lib/python3.6/dist-packages (from sacremoses->transformers) (0.17.0)\n",
            "Building wheels for collected packages: sacremoses\n",
            "  Building wheel for sacremoses (setup.py) ... \u001b[?25l\u001b[?25hdone\n",
            "  Created wheel for sacremoses: filename=sacremoses-0.0.43-cp36-none-any.whl size=893261 sha256=8eae7d6fd4df7866f0f6342abff41e183ca1b2a44b80a341e0775e0474b04763\n",
            "  Stored in directory: /root/.cache/pip/wheels/29/3c/fd/7ce5c3f0666dab31a50123635e6fb5e19ceb42ce38d4e58f45\n",
            "Successfully built sacremoses\n",
            "Installing collected packages: tokenizers, sacremoses, transformers\n",
            "Successfully installed sacremoses-0.0.43 tokenizers-0.9.4 transformers-4.0.1\n"
          ],
          "name": "stdout"
        }
      ]
    },
    {
      "cell_type": "code",
      "metadata": {
        "id": "2_ahVrJQaWol"
      },
      "source": [
        "import transformers\n",
        "from transformers import BertModel, BertTokenizer, AdamW, get_linear_schedule_with_warmup\n",
        "import torch\n",
        "import numpy as np\n",
        "import pandas as pd\n",
        "import seaborn as sns\n",
        "from pylab import rcParams\n",
        "import matplotlib.pyplot as plt\n",
        "from matplotlib import rc\n",
        "from sklearn.model_selection import train_test_split\n",
        "from sklearn.metrics import confusion_matrix, classification_report\n",
        "from collections import defaultdict\n",
        "from textwrap import wrap\n",
        "from torch import nn, optim\n",
        "from torch.utils.data import Dataset, DataLoader"
      ],
      "execution_count": null,
      "outputs": []
    },
    {
      "cell_type": "code",
      "metadata": {
        "id": "bmOw11QOabC5"
      },
      "source": [
        "RANDOM_SEED = 0\n",
        "np.random.seed(RANDOM_SEED)\n",
        "torch.manual_seed(RANDOM_SEED)\n",
        "device = torch.device(\"cuda:0\" if torch.cuda.is_available() else \"cpu\")"
      ],
      "execution_count": null,
      "outputs": []
    },
    {
      "cell_type": "code",
      "metadata": {
        "colab": {
          "base_uri": "https://localhost:8080/"
        },
        "id": "qqOhEC5fa9ks",
        "outputId": "93f6971c-91e1-462a-c2e7-5514e91e3a9e"
      },
      "source": [
        "!gdown --id 1S6qMioqPJjyBLpLVz4gmRTnJHnjitnuV\n",
        "!gdown --id 1zdmewp7ayS4js4VtrJEHzAheSW-5NBZv"
      ],
      "execution_count": null,
      "outputs": [
        {
          "output_type": "stream",
          "text": [
            "Downloading...\n",
            "From: https://drive.google.com/uc?id=1S6qMioqPJjyBLpLVz4gmRTnJHnjitnuV\n",
            "To: /content/apps.csv\n",
            "100% 134k/134k [00:00<00:00, 32.7MB/s]\n",
            "Downloading...\n",
            "From: https://drive.google.com/uc?id=1zdmewp7ayS4js4VtrJEHzAheSW-5NBZv\n",
            "To: /content/reviews.csv\n",
            "7.17MB [00:00, 27.1MB/s]\n"
          ],
          "name": "stdout"
        }
      ]
    },
    {
      "cell_type": "code",
      "metadata": {
        "colab": {
          "base_uri": "https://localhost:8080/",
          "height": 204
        },
        "id": "aicZDh-9aycy",
        "outputId": "706afb6e-7de0-4ecf-f42d-4e8ef8eb2c7e"
      },
      "source": [
        "df = pd.read_csv(\"reviews.csv\")\n",
        "df.head()"
      ],
      "execution_count": null,
      "outputs": [
        {
          "output_type": "execute_result",
          "data": {
            "text/html": [
              "<div>\n",
              "<style scoped>\n",
              "    .dataframe tbody tr th:only-of-type {\n",
              "        vertical-align: middle;\n",
              "    }\n",
              "\n",
              "    .dataframe tbody tr th {\n",
              "        vertical-align: top;\n",
              "    }\n",
              "\n",
              "    .dataframe thead th {\n",
              "        text-align: right;\n",
              "    }\n",
              "</style>\n",
              "<table border=\"1\" class=\"dataframe\">\n",
              "  <thead>\n",
              "    <tr style=\"text-align: right;\">\n",
              "      <th></th>\n",
              "      <th>userName</th>\n",
              "      <th>userImage</th>\n",
              "      <th>content</th>\n",
              "      <th>score</th>\n",
              "      <th>thumbsUpCount</th>\n",
              "      <th>reviewCreatedVersion</th>\n",
              "      <th>at</th>\n",
              "      <th>replyContent</th>\n",
              "      <th>repliedAt</th>\n",
              "      <th>sortOrder</th>\n",
              "      <th>appId</th>\n",
              "    </tr>\n",
              "  </thead>\n",
              "  <tbody>\n",
              "    <tr>\n",
              "      <th>0</th>\n",
              "      <td>Andrew Thomas</td>\n",
              "      <td>https://lh3.googleusercontent.com/a-/AOh14GiHd...</td>\n",
              "      <td>Update: After getting a response from the deve...</td>\n",
              "      <td>1</td>\n",
              "      <td>21</td>\n",
              "      <td>4.17.0.3</td>\n",
              "      <td>2020-04-05 22:25:57</td>\n",
              "      <td>According to our TOS, and the term you have ag...</td>\n",
              "      <td>2020-04-05 15:10:24</td>\n",
              "      <td>most_relevant</td>\n",
              "      <td>com.anydo</td>\n",
              "    </tr>\n",
              "    <tr>\n",
              "      <th>1</th>\n",
              "      <td>Craig Haines</td>\n",
              "      <td>https://lh3.googleusercontent.com/-hoe0kwSJgPQ...</td>\n",
              "      <td>Used it for a fair amount of time without any ...</td>\n",
              "      <td>1</td>\n",
              "      <td>11</td>\n",
              "      <td>4.17.0.3</td>\n",
              "      <td>2020-04-04 13:40:01</td>\n",
              "      <td>It sounds like you logged in with a different ...</td>\n",
              "      <td>2020-04-05 15:11:35</td>\n",
              "      <td>most_relevant</td>\n",
              "      <td>com.anydo</td>\n",
              "    </tr>\n",
              "    <tr>\n",
              "      <th>2</th>\n",
              "      <td>steven adkins</td>\n",
              "      <td>https://lh3.googleusercontent.com/a-/AOh14GiXw...</td>\n",
              "      <td>Your app sucks now!!!!! Used to be good but no...</td>\n",
              "      <td>1</td>\n",
              "      <td>17</td>\n",
              "      <td>4.17.0.3</td>\n",
              "      <td>2020-04-01 16:18:13</td>\n",
              "      <td>This sounds odd! We are not aware of any issue...</td>\n",
              "      <td>2020-04-02 16:05:56</td>\n",
              "      <td>most_relevant</td>\n",
              "      <td>com.anydo</td>\n",
              "    </tr>\n",
              "    <tr>\n",
              "      <th>3</th>\n",
              "      <td>Lars Panzerbjørn</td>\n",
              "      <td>https://lh3.googleusercontent.com/a-/AOh14Gg-h...</td>\n",
              "      <td>It seems OK, but very basic. Recurring tasks n...</td>\n",
              "      <td>1</td>\n",
              "      <td>192</td>\n",
              "      <td>4.17.0.2</td>\n",
              "      <td>2020-03-12 08:17:34</td>\n",
              "      <td>We do offer this option as part of the Advance...</td>\n",
              "      <td>2020-03-15 06:20:13</td>\n",
              "      <td>most_relevant</td>\n",
              "      <td>com.anydo</td>\n",
              "    </tr>\n",
              "    <tr>\n",
              "      <th>4</th>\n",
              "      <td>Scott Prewitt</td>\n",
              "      <td>https://lh3.googleusercontent.com/-K-X1-YsVd6U...</td>\n",
              "      <td>Absolutely worthless. This app runs a prohibit...</td>\n",
              "      <td>1</td>\n",
              "      <td>42</td>\n",
              "      <td>4.17.0.2</td>\n",
              "      <td>2020-03-14 17:41:01</td>\n",
              "      <td>We're sorry you feel this way! 90% of the app ...</td>\n",
              "      <td>2020-03-15 23:45:51</td>\n",
              "      <td>most_relevant</td>\n",
              "      <td>com.anydo</td>\n",
              "    </tr>\n",
              "  </tbody>\n",
              "</table>\n",
              "</div>"
            ],
            "text/plain": [
              "           userName  ...      appId\n",
              "0     Andrew Thomas  ...  com.anydo\n",
              "1      Craig Haines  ...  com.anydo\n",
              "2     steven adkins  ...  com.anydo\n",
              "3  Lars Panzerbjørn  ...  com.anydo\n",
              "4     Scott Prewitt  ...  com.anydo\n",
              "\n",
              "[5 rows x 11 columns]"
            ]
          },
          "metadata": {
            "tags": []
          },
          "execution_count": 7
        }
      ]
    },
    {
      "cell_type": "code",
      "metadata": {
        "colab": {
          "base_uri": "https://localhost:8080/"
        },
        "id": "T8boCJUebM6A",
        "outputId": "0ea4637f-12e1-4103-ce30-a7f7501e9978"
      },
      "source": [
        "df.shape"
      ],
      "execution_count": null,
      "outputs": [
        {
          "output_type": "execute_result",
          "data": {
            "text/plain": [
              "(15746, 11)"
            ]
          },
          "metadata": {
            "tags": []
          },
          "execution_count": 8
        }
      ]
    },
    {
      "cell_type": "code",
      "metadata": {
        "colab": {
          "base_uri": "https://localhost:8080/"
        },
        "id": "CoSN9t0VbThf",
        "outputId": "2d285f7b-f3e9-4c42-bad9-f9ba6f199177"
      },
      "source": [
        "df.info"
      ],
      "execution_count": null,
      "outputs": [
        {
          "output_type": "execute_result",
          "data": {
            "text/plain": [
              "<bound method DataFrame.info of                 userName  ...              appId\n",
              "0          Andrew Thomas  ...          com.anydo\n",
              "1           Craig Haines  ...          com.anydo\n",
              "2          steven adkins  ...          com.anydo\n",
              "3       Lars Panzerbjørn  ...          com.anydo\n",
              "4          Scott Prewitt  ...          com.anydo\n",
              "...                  ...  ...                ...\n",
              "15741          Tammy Kay  ...  com.appxy.planner\n",
              "15742          Ysm Johan  ...  com.appxy.planner\n",
              "15743      casey dearden  ...  com.appxy.planner\n",
              "15744     Jerry G Tamate  ...  com.appxy.planner\n",
              "15745  Ahmed elsalamouni  ...  com.appxy.planner\n",
              "\n",
              "[15746 rows x 11 columns]>"
            ]
          },
          "metadata": {
            "tags": []
          },
          "execution_count": 9
        }
      ]
    },
    {
      "cell_type": "code",
      "metadata": {
        "id": "cAyxHoq3ave8"
      },
      "source": [
        "%matplotlib inline\n",
        "%config InlineBackend.figure_format='retina'\n",
        "rcParams['figure.figsize'] = 8, 6"
      ],
      "execution_count": null,
      "outputs": []
    },
    {
      "cell_type": "code",
      "metadata": {
        "colab": {
          "base_uri": "https://localhost:8080/",
          "height": 444
        },
        "id": "jENXmr5IbWot",
        "outputId": "a35b6ee8-6f3e-4be4-8d94-9e1bd37ad3a4"
      },
      "source": [
        "sns.set(style='whitegrid')\n",
        "sns.set_palette(sns.color_palette([\"#ff0000\", \"#ff0000\", \"#ffc800\", \"#00c800\", \"#00c800\"]))\n",
        "sns.countplot(df.score)\n",
        "plt.xlabel('score')"
      ],
      "execution_count": null,
      "outputs": [
        {
          "output_type": "stream",
          "text": [
            "/usr/local/lib/python3.6/dist-packages/seaborn/_decorators.py:43: FutureWarning: Pass the following variable as a keyword arg: x. From version 0.12, the only valid positional argument will be `data`, and passing other arguments without an explicit keyword will result in an error or misinterpretation.\n",
            "  FutureWarning\n"
          ],
          "name": "stderr"
        },
        {
          "output_type": "execute_result",
          "data": {
            "text/plain": [
              "Text(0.5, 0, 'score')"
            ]
          },
          "metadata": {
            "tags": []
          },
          "execution_count": 11
        },
        {
          "output_type": "display_data",
          "data": {
            "image/png": "[encoded data removed]",
            "text/plain": [
              "<Figure size 576x432 with 1 Axes>"
            ]
          },
          "metadata": {
            "tags": [],
            "image/png": {
              "width": 514,
              "height": 376
            }
          }
        }
      ]
    },
    {
      "cell_type": "code",
      "metadata": {
        "id": "6NVHbjD7vu38"
      },
      "source": [
        "counts = [0, 0, 0, 0, 0]\r\n",
        "for i in range(len(df['score'])):\r\n",
        "  counts[df['score'][i] - 1] += 1"
      ],
      "execution_count": null,
      "outputs": []
    },
    {
      "cell_type": "code",
      "metadata": {
        "id": "wDbYicZ9v_H4",
        "colab": {
          "base_uri": "https://localhost:8080/"
        },
        "outputId": "da41ba38-baed-4978-d943-1c474ebd0f18"
      },
      "source": [
        "counts"
      ],
      "execution_count": null,
      "outputs": [
        {
          "output_type": "execute_result",
          "data": {
            "text/plain": [
              "[2566, 2462, 5042, 2776, 2900]"
            ]
          },
          "metadata": {
            "tags": []
          },
          "execution_count": 13
        }
      ]
    },
    {
      "cell_type": "code",
      "metadata": {
        "id": "fh9FQNKrcBjr"
      },
      "source": [
        "def scr2snt(scr):\n",
        "  scr = int(scr)\n",
        "  if scr <= 2:\n",
        "    return 0\n",
        "  elif scr == 3:\n",
        "    return 1\n",
        "  else:\n",
        "    return 2"
      ],
      "execution_count": null,
      "outputs": []
    },
    {
      "cell_type": "code",
      "metadata": {
        "id": "PrnojjAXdotr"
      },
      "source": [
        "df['sentiment'] = df.score.apply(scr2snt)"
      ],
      "execution_count": null,
      "outputs": []
    },
    {
      "cell_type": "code",
      "metadata": {
        "id": "Y-328FbMduWk"
      },
      "source": [
        "tags = ['negative', 'neutral', 'positive']"
      ],
      "execution_count": null,
      "outputs": []
    },
    {
      "cell_type": "code",
      "metadata": {
        "colab": {
          "base_uri": "https://localhost:8080/",
          "height": 464
        },
        "id": "pHv01_GMd4L1",
        "outputId": "b32fc1d4-d327-4fa6-b316-1f570c87ae3c"
      },
      "source": [
        "sns.set_palette(sns.color_palette([\"#ff0000\", \"#ffc800\", \"#00c800\"]))\n",
        "sns.countplot(df.sentiment).set_xticklabels(tags)\n",
        "plt.xlabel('sentiment')"
      ],
      "execution_count": null,
      "outputs": [
        {
          "output_type": "stream",
          "text": [
            "/usr/local/lib/python3.6/dist-packages/seaborn/_decorators.py:43: FutureWarning: Pass the following variable as a keyword arg: x. From version 0.12, the only valid positional argument will be `data`, and passing other arguments without an explicit keyword will result in an error or misinterpretation.\n",
            "  FutureWarning\n"
          ],
          "name": "stderr"
        },
        {
          "output_type": "execute_result",
          "data": {
            "text/plain": [
              "Text(0.5, 0, 'sentiment')"
            ]
          },
          "metadata": {
            "tags": []
          },
          "execution_count": 15
        },
        {
          "output_type": "display_data",
          "data": {
            "image/png": "[encoded data removed]",
            "text/plain": [
              "<Figure size 576x432 with 1 Axes>"
            ]
          },
          "metadata": {
            "tags": [],
            "image/png": {
              "width": 514,
              "height": 376
            }
          }
        }
      ]
    },
    {
      "cell_type": "code",
      "metadata": {
        "id": "EtEscYAOoBF2"
      },
      "source": [
        "BERT_MODEL_NAME = 'bert-base-cased' "
      ],
      "execution_count": null,
      "outputs": []
    },
    {
      "cell_type": "code",
      "metadata": {
        "colab": {
          "base_uri": "https://localhost:8080/",
          "height": 66,
          "referenced_widgets": [
            "bd5b34c26aac42f18a9f2bda0a00291d",
            "472aeeafd10744799c6c2b5f52168c0f",
            "0216a1766c4c498a8b4664ebbe98170e",
            "a05bc57f4c8f41a4818b0af9c4ac312f",
            "a7dd1725ae1543ec87ee32b406cbbff9",
            "96449f802a6245ce86c745d379829f0d",
            "1990e5946eaa49d7b8ad1dec28084cf6",
            "e3ca7c169d6c43dba986acac1f07f4bb"
          ]
        },
        "id": "x_R5hb6Qe5GN",
        "outputId": "75d4dd59-eed8-44fc-b100-505f3611fdf3"
      },
      "source": [
        "tokenizer = BertTokenizer.from_pretrained(BERT_MODEL_NAME)"
      ],
      "execution_count": null,
      "outputs": [
        {
          "output_type": "display_data",
          "data": {
            "application/vnd.jupyter.widget-view+json": {
              "model_id": "bd5b34c26aac42f18a9f2bda0a00291d",
              "version_minor": 0,
              "version_major": 2
            },
            "text/plain": [
              "HBox(children=(FloatProgress(value=0.0, description='Downloading', max=213450.0, style=ProgressStyle(descripti…"
            ]
          },
          "metadata": {
            "tags": []
          }
        },
        {
          "output_type": "stream",
          "text": [
            "\n"
          ],
          "name": "stdout"
        }
      ]
    },
    {
      "cell_type": "code",
      "metadata": {
        "colab": {
          "base_uri": "https://localhost:8080/"
        },
        "id": "tMSV1wFtfX3L",
        "outputId": "a9390626-eec5-4f52-b9d0-cc8f0a906696"
      },
      "source": [
        "sent = 'My test sentence for tokenization'\n",
        "tokens = tokenizer.tokenize(sent)\n",
        "token_ids = tokenizer.convert_tokens_to_ids(tokens)\n",
        "\n",
        "print(tokens)\n",
        "print(token_ids)"
      ],
      "execution_count": null,
      "outputs": [
        {
          "output_type": "stream",
          "text": [
            "['My', 'test', 'sentence', 'for', 'token', '##ization']\n",
            "[1422, 2774, 5650, 1111, 22559, 2734]\n"
          ],
          "name": "stdout"
        }
      ]
    },
    {
      "cell_type": "code",
      "metadata": {
        "colab": {
          "base_uri": "https://localhost:8080/"
        },
        "id": "TOEh0u4if3Q6",
        "outputId": "e4f91215-8916-42d4-958f-c2333e81c01f"
      },
      "source": [
        "print(tokenizer.sep_token, tokenizer.sep_token_id)\n",
        "print(tokenizer.cls_token, tokenizer.cls_token_id)\n",
        "print(tokenizer.pad_token, tokenizer.pad_token_id)\n",
        "print(tokenizer.unk_token, tokenizer.unk_token_id)"
      ],
      "execution_count": null,
      "outputs": [
        {
          "output_type": "stream",
          "text": [
            "[SEP] 102\n",
            "[CLS] 101\n",
            "[PAD] 0\n",
            "[UNK] 100\n"
          ],
          "name": "stdout"
        }
      ]
    },
    {
      "cell_type": "code",
      "metadata": {
        "colab": {
          "base_uri": "https://localhost:8080/"
        },
        "id": "WsmhYNiVnun_",
        "outputId": "f57d84f3-4eb2-4980-936f-174a0327b818"
      },
      "source": [
        "print(tokenizer.max_model_input_sizes[BERT_MODEL_NAME])"
      ],
      "execution_count": null,
      "outputs": [
        {
          "output_type": "stream",
          "text": [
            "512\n"
          ],
          "name": "stdout"
        }
      ]
    },
    {
      "cell_type": "code",
      "metadata": {
        "colab": {
          "base_uri": "https://localhost:8080/"
        },
        "id": "T1kVh6aQpxW3",
        "outputId": "ad663fca-768a-4621-a337-5a5663b3f9ef"
      },
      "source": [
        "encoder = tokenizer.encode_plus(\n",
        "  sent, add_special_tokens=True,\n",
        "  max_length=100,\n",
        "  return_token_type_ids=False,\n",
        "  pad_to_max_length=True,\n",
        "  return_attention_mask=True,\n",
        "  return_tensors='pt',\n",
        ")"
      ],
      "execution_count": null,
      "outputs": [
        {
          "output_type": "stream",
          "text": [
            "Truncation was not explicitly activated but `max_length` is provided a specific value, please use `truncation=True` to explicitly truncate examples to max length. Defaulting to 'longest_first' truncation strategy. If you encode pairs of sequences (GLUE-style) with the tokenizer you can select this strategy more precisely by providing a specific strategy to `truncation`.\n",
            "/usr/local/lib/python3.6/dist-packages/transformers/tokenization_utils_base.py:2142: FutureWarning: The `pad_to_max_length` argument is deprecated and will be removed in a future version, use `padding=True` or `padding='longest'` to pad to the longest sequence in the batch, or use `padding='max_length'` to pad to a max length. In this case, you can give a specific length with `max_length` (e.g. `max_length=45`) or leave max_length to None to pad to the maximal input size of the model (e.g. 512 for Bert).\n",
            "  FutureWarning,\n"
          ],
          "name": "stderr"
        }
      ]
    },
    {
      "cell_type": "code",
      "metadata": {
        "colab": {
          "base_uri": "https://localhost:8080/"
        },
        "id": "ntVEbnk9qHHu",
        "outputId": "58170c99-c506-42a9-85df-3744738af0ae"
      },
      "source": [
        "encoder['input_ids'].flatten()"
      ],
      "execution_count": null,
      "outputs": [
        {
          "output_type": "execute_result",
          "data": {
            "text/plain": [
              "tensor([  101,  1422,  2774,  5650,  1111, 22559,  2734,   102,     0,     0,\n",
              "            0,     0,     0,     0,     0,     0,     0,     0,     0,     0,\n",
              "            0,     0,     0,     0,     0,     0,     0,     0,     0,     0,\n",
              "            0,     0,     0,     0,     0,     0,     0,     0,     0,     0,\n",
              "            0,     0,     0,     0,     0,     0,     0,     0,     0,     0,\n",
              "            0,     0,     0,     0,     0,     0,     0,     0,     0,     0,\n",
              "            0,     0,     0,     0,     0,     0,     0,     0,     0,     0,\n",
              "            0,     0,     0,     0,     0,     0,     0,     0,     0,     0,\n",
              "            0,     0,     0,     0,     0,     0,     0,     0,     0,     0,\n",
              "            0,     0,     0,     0,     0,     0,     0,     0,     0,     0])"
            ]
          },
          "metadata": {
            "tags": []
          },
          "execution_count": 22
        }
      ]
    },
    {
      "cell_type": "code",
      "metadata": {
        "colab": {
          "base_uri": "https://localhost:8080/"
        },
        "id": "Q-_bKF6dqTEX",
        "outputId": "6e228a92-0429-4f71-9797-47c28800789f"
      },
      "source": [
        "encoder['attention_mask'].flatten()"
      ],
      "execution_count": null,
      "outputs": [
        {
          "output_type": "execute_result",
          "data": {
            "text/plain": [
              "tensor([1, 1, 1, 1, 1, 1, 1, 1, 0, 0, 0, 0, 0, 0, 0, 0, 0, 0, 0, 0, 0, 0, 0, 0,\n",
              "        0, 0, 0, 0, 0, 0, 0, 0, 0, 0, 0, 0, 0, 0, 0, 0, 0, 0, 0, 0, 0, 0, 0, 0,\n",
              "        0, 0, 0, 0, 0, 0, 0, 0, 0, 0, 0, 0, 0, 0, 0, 0, 0, 0, 0, 0, 0, 0, 0, 0,\n",
              "        0, 0, 0, 0, 0, 0, 0, 0, 0, 0, 0, 0, 0, 0, 0, 0, 0, 0, 0, 0, 0, 0, 0, 0,\n",
              "        0, 0, 0, 0])"
            ]
          },
          "metadata": {
            "tags": []
          },
          "execution_count": 23
        }
      ]
    },
    {
      "cell_type": "code",
      "metadata": {
        "id": "ex4_zViIg1j3"
      },
      "source": [
        "token_lengths = []\n",
        "for sent in df.content:\n",
        "  tokens = tokenizer.encode(sent, max_length=tokenizer.max_model_input_sizes[BERT_MODEL_NAME])\n",
        "  token_lengths.append(len(tokens))"
      ],
      "execution_count": null,
      "outputs": []
    },
    {
      "cell_type": "code",
      "metadata": {
        "colab": {
          "base_uri": "https://localhost:8080/",
          "height": 464
        },
        "id": "1z_0YL6QoWHw",
        "outputId": "4c702eaa-b605-41c4-901d-73874a38bc8e"
      },
      "source": [
        "sns.distplot(token_lengths)\n",
        "plt.xlim([0, tokenizer.max_model_input_sizes[BERT_MODEL_NAME] // 2])\n",
        "plt.xlabel('Token count')"
      ],
      "execution_count": null,
      "outputs": [
        {
          "output_type": "stream",
          "text": [
            "/usr/local/lib/python3.6/dist-packages/seaborn/distributions.py:2551: FutureWarning: `distplot` is a deprecated function and will be removed in a future version. Please adapt your code to use either `displot` (a figure-level function with similar flexibility) or `histplot` (an axes-level function for histograms).\n",
            "  warnings.warn(msg, FutureWarning)\n"
          ],
          "name": "stderr"
        },
        {
          "output_type": "execute_result",
          "data": {
            "text/plain": [
              "Text(0.5, 0, 'Token count')"
            ]
          },
          "metadata": {
            "tags": []
          },
          "execution_count": 25
        },
        {
          "output_type": "display_data",
          "data": {
            "image/png": "[encoded data removed]",
            "text/plain": [
              "<Figure size 576x432 with 1 Axes>"
            ]
          },
          "metadata": {
            "tags": [],
            "image/png": {
              "width": 525,
              "height": 376
            }
          }
        }
      ]
    },
    {
      "cell_type": "code",
      "metadata": {
        "id": "ZAzl3FWMoxmg"
      },
      "source": [
        "MAX_LEN = 175"
      ],
      "execution_count": null,
      "outputs": []
    },
    {
      "cell_type": "code",
      "metadata": {
        "id": "Cq3pPhh8o-c6"
      },
      "source": [
        "class ReviewsDataset(Dataset):\n",
        "  def __init__(self, reviews, targets, tokenizer, MAX_LEN):\n",
        "    self.reviews = reviews\n",
        "    self.targets = targets\n",
        "    self.tokenizer = tokenizer\n",
        "    self.MAX_LEN = MAX_LEN\n",
        "  \n",
        "  def __len__(self):\n",
        "    return len(self.reviews)\n",
        "  \n",
        "  def __getitem__(self, item):\n",
        "    review = str(self.reviews[item])\n",
        "    target = self.targets[item]\n",
        "    encoder = tokenizer.encode_plus(\n",
        "      review, add_special_tokens=True,\n",
        "      max_length=self.MAX_LEN,\n",
        "      return_token_type_ids=False,\n",
        "      pad_to_max_length=True,\n",
        "      return_attention_mask=True,\n",
        "      return_tensors='pt',\n",
        "    )\n",
        "    return {'review': review, 'input_ids': encoder['input_ids'].flatten(), 'attention_mask': encoder['attention_mask'].flatten(), 'target': torch.tensor(target, dtype=torch.long)}"
      ],
      "execution_count": null,
      "outputs": []
    },
    {
      "cell_type": "code",
      "metadata": {
        "id": "Ij2F1c5ZrPcP"
      },
      "source": [
        "df_train, df_test = train_test_split(df, test_size=0.1, random_state=RANDOM_SEED)\n",
        "df_val, df_test = train_test_split(df_test, test_size=0.5, random_state=RANDOM_SEED)"
      ],
      "execution_count": null,
      "outputs": []
    },
    {
      "cell_type": "code",
      "metadata": {
        "id": "2d5tvWSes_0q",
        "colab": {
          "base_uri": "https://localhost:8080/"
        },
        "outputId": "f1f405a1-a325-4033-bc1b-29d1c27c03b9"
      },
      "source": [
        "print(df_train.shape, df_val.shape, df_test.shape)"
      ],
      "execution_count": null,
      "outputs": [
        {
          "output_type": "stream",
          "text": [
            "(14171, 12) (787, 12) (788, 12)\n"
          ],
          "name": "stdout"
        }
      ]
    },
    {
      "cell_type": "code",
      "metadata": {
        "id": "oyrU3agjr6gg"
      },
      "source": [
        "def get_loader(df, tokenizer, MAX_LEN, BATCH_SIZE):\n",
        "  data = ReviewsDataset(reviews=df.content.to_numpy(), targets=df.sentiment.to_numpy(), tokenizer=tokenizer, MAX_LEN=MAX_LEN)\n",
        "  loader = DataLoader(data, batch_size=BATCH_SIZE)\n",
        "  return loader"
      ],
      "execution_count": null,
      "outputs": []
    },
    {
      "cell_type": "code",
      "metadata": {
        "id": "pVEcoi2Hrkw8"
      },
      "source": [
        "BATCH_SIZE = 16\n",
        "\n",
        "train_loader = get_loader(df_train, tokenizer, MAX_LEN, BATCH_SIZE)\n",
        "val_loader = get_loader(df_val, tokenizer, MAX_LEN, BATCH_SIZE)\n",
        "test_loader = get_loader(df_test, tokenizer, MAX_LEN, BATCH_SIZE)"
      ],
      "execution_count": null,
      "outputs": []
    },
    {
      "cell_type": "code",
      "metadata": {
        "id": "Ab2b_jpes80i",
        "colab": {
          "base_uri": "https://localhost:8080/"
        },
        "outputId": "b7f17e3a-b840-4847-89fe-f221559458a4"
      },
      "source": [
        "data = next(iter(train_loader))\n",
        "data.keys()"
      ],
      "execution_count": null,
      "outputs": [
        {
          "output_type": "stream",
          "text": [
            "/usr/local/lib/python3.6/dist-packages/transformers/tokenization_utils_base.py:2142: FutureWarning: The `pad_to_max_length` argument is deprecated and will be removed in a future version, use `padding=True` or `padding='longest'` to pad to the longest sequence in the batch, or use `padding='max_length'` to pad to a max length. In this case, you can give a specific length with `max_length` (e.g. `max_length=45`) or leave max_length to None to pad to the maximal input size of the model (e.g. 512 for Bert).\n",
            "  FutureWarning,\n"
          ],
          "name": "stderr"
        },
        {
          "output_type": "execute_result",
          "data": {
            "text/plain": [
              "dict_keys(['review', 'input_ids', 'attention_mask', 'target'])"
            ]
          },
          "metadata": {
            "tags": []
          },
          "execution_count": 32
        }
      ]
    },
    {
      "cell_type": "code",
      "metadata": {
        "colab": {
          "base_uri": "https://localhost:8080/"
        },
        "id": "gSD_5ZLYw1Sj",
        "outputId": "fbb5e6fb-543e-416f-d555-c1e2df7a5e5c"
      },
      "source": [
        "print(data['input_ids'].shape)\n",
        "print(data['attention_mask'].shape)\n",
        "print(data['target'].shape)"
      ],
      "execution_count": null,
      "outputs": [
        {
          "output_type": "stream",
          "text": [
            "torch.Size([16, 175])\n",
            "torch.Size([16, 175])\n",
            "torch.Size([16])\n"
          ],
          "name": "stdout"
        }
      ]
    },
    {
      "cell_type": "code",
      "metadata": {
        "id": "ozEggRoLw6tr",
        "colab": {
          "base_uri": "https://localhost:8080/",
          "height": 115,
          "referenced_widgets": [
            "704dc3f89cbf4f0e8faa5ec9d2b4f8ec",
            "2940e244280448429f1c9911a1e987ce",
            "123f7359387648edbeb773bdeb69a7ca",
            "d0546711597f4b018b3349c884783c58",
            "b98e86482cd7491f99e755f9aae48c25",
            "49f8344a22bd4fe79c8b02463aa21ebd",
            "303e70b4997342cfbd2c619915e7867b",
            "1e719d49a29045f6871174943efa7d9e",
            "ccb7c155b367485685b7f1e7074b9866",
            "a0dfe9bf23a94f02a6bf625e5854f7f1",
            "f1f7e2db000f4642ae24d4cd080fc48c",
            "64bbe0f4b1784045bc084799677269bc",
            "e076f179310a41f7a4afa0aa6841a270",
            "96d10e2e1910433d8502b29f4abac219",
            "a6c2328c958f40e98107ac4339febf09",
            "155586e9750f46a99a5ddbc7739d013e"
          ]
        },
        "outputId": "ce8b5fec-b91c-42e8-8c27-a5d7654ef98d"
      },
      "source": [
        "bert = BertModel.from_pretrained(BERT_MODEL_NAME)"
      ],
      "execution_count": null,
      "outputs": [
        {
          "output_type": "display_data",
          "data": {
            "application/vnd.jupyter.widget-view+json": {
              "model_id": "704dc3f89cbf4f0e8faa5ec9d2b4f8ec",
              "version_minor": 0,
              "version_major": 2
            },
            "text/plain": [
              "HBox(children=(FloatProgress(value=0.0, description='Downloading', max=433.0, style=ProgressStyle(description_…"
            ]
          },
          "metadata": {
            "tags": []
          }
        },
        {
          "output_type": "stream",
          "text": [
            "\n"
          ],
          "name": "stdout"
        },
        {
          "output_type": "display_data",
          "data": {
            "application/vnd.jupyter.widget-view+json": {
              "model_id": "ccb7c155b367485685b7f1e7074b9866",
              "version_minor": 0,
              "version_major": 2
            },
            "text/plain": [
              "HBox(children=(FloatProgress(value=0.0, description='Downloading', max=435779157.0, style=ProgressStyle(descri…"
            ]
          },
          "metadata": {
            "tags": []
          }
        },
        {
          "output_type": "stream",
          "text": [
            "\n"
          ],
          "name": "stdout"
        }
      ]
    },
    {
      "cell_type": "code",
      "metadata": {
        "id": "H_jV1_GmxcPo"
      },
      "source": [
        "res = bert(input_ids = encoder['input_ids'], attention_mask=encoder['attention_mask'])"
      ],
      "execution_count": null,
      "outputs": []
    },
    {
      "cell_type": "code",
      "metadata": {
        "colab": {
          "base_uri": "https://localhost:8080/"
        },
        "id": "qfnzMI6J4Jbm",
        "outputId": "910af6dc-be84-4f71-ae25-011ffcc46e8a"
      },
      "source": [
        "res[0].shape"
      ],
      "execution_count": null,
      "outputs": [
        {
          "output_type": "execute_result",
          "data": {
            "text/plain": [
              "torch.Size([1, 100, 768])"
            ]
          },
          "metadata": {
            "tags": []
          },
          "execution_count": 36
        }
      ]
    },
    {
      "cell_type": "code",
      "metadata": {
        "colab": {
          "base_uri": "https://localhost:8080/"
        },
        "id": "7tVyHgDg4LaV",
        "outputId": "4936e3d4-b2ce-4511-ee47-955fb3ed7da6"
      },
      "source": [
        "res[1].shape"
      ],
      "execution_count": null,
      "outputs": [
        {
          "output_type": "execute_result",
          "data": {
            "text/plain": [
              "torch.Size([1, 768])"
            ]
          },
          "metadata": {
            "tags": []
          },
          "execution_count": 37
        }
      ]
    },
    {
      "cell_type": "code",
      "metadata": {
        "id": "J-QiYdQH4iGU"
      },
      "source": [
        "class Analyzer(nn.Module):\n",
        "  def __init__(self, bert, p, num_tags):\n",
        "    super(Analyzer, self).__init__()\n",
        "    self.inp2emb = bert\n",
        "    self.drop = nn.Dropout(p=p)\n",
        "    self.emb2out = nn.Linear(self.inp2emb.config.hidden_size, num_tags)\n",
        "\n",
        "  def forward(self, input_ids, attention_mask):\n",
        "    emb = self.inp2emb(input_ids=input_ids, attention_mask=attention_mask)[1]\n",
        "    emb = self.drop(emb)\n",
        "    out = self.emb2out(emb)\n",
        "    return out"
      ],
      "execution_count": null,
      "outputs": []
    },
    {
      "cell_type": "code",
      "metadata": {
        "id": "zpR85VbAQcD-"
      },
      "source": [
        "class AnalyzerV4(nn.Module):\n",
        "  def __init__(self, bert, p, num_tags, hid_dim, num_lay):\n",
        "    super(AnalyzerV4, self).__init__()\n",
        "    self.inp2emb = bert\n",
        "    self.drop = nn.Dropout(p=p)\n",
        "    self.emb2hid0 = nn.Linear(self.inp2emb.config.hidden_size, hid_dim * 2)\n",
        "    self.emb2hid = nn.GRU(self.inp2emb.config.hidden_size, hid_dim, num_layers=num_lay, bidirectional=True, batch_first=True, dropout=p)\n",
        "    self.hid2out = nn.Linear(hid_dim * 2, num_tags)\n",
        "\n",
        "  def forward(self, input_ids, attention_mask):\n",
        "    emb = self.inp2emb(input_ids=input_ids, attention_mask=attention_mask)\n",
        "    hid0 = self.emb2hid0(emb[1])\n",
        "    hid0 = torch.cat((hid0, hid0), dim=1).reshape(4, hid0.size(0), hid0.size(1) // 2)\n",
        "    h, hid = self.emb2hid(emb[0], hid0)\n",
        "    hid = self.drop(torch.cat((hid[-2,:,:], hid[-1,:,:]), dim=1))\n",
        "    out = self.hid2out(hid)\n",
        "    return out"
      ],
      "execution_count": null,
      "outputs": []
    },
    {
      "cell_type": "code",
      "metadata": {
        "id": "vuS7ODffklc9"
      },
      "source": [
        "analyzer = Analyzer(bert, 0.2, len(tags))\n",
        "analyzer = analyzer.to(device)"
      ],
      "execution_count": null,
      "outputs": []
    },
    {
      "cell_type": "code",
      "metadata": {
        "id": "KtSjLZC1fH5K"
      },
      "source": [
        "analyzerV4 = AnalyzerV4(bert, 0.2, len(tags), 256, 2)\n",
        "analyzerV4 = analyzerV4.to(device)"
      ],
      "execution_count": null,
      "outputs": []
    },
    {
      "cell_type": "code",
      "metadata": {
        "colab": {
          "base_uri": "https://localhost:8080/"
        },
        "id": "QCi-9SL2k1Ja",
        "outputId": "aa455abc-4163-435a-c210-7cb3a387f1a1"
      },
      "source": [
        "analyzer(input_ids = data['input_ids'].to(device), attention_mask=data['attention_mask'].to(device))"
      ],
      "execution_count": null,
      "outputs": [
        {
          "output_type": "execute_result",
          "data": {
            "text/plain": [
              "tensor([[-0.6077,  0.1259,  0.0871],\n",
              "        [-0.2972, -0.0164, -0.6364],\n",
              "        [-0.3720,  0.0907, -1.1108],\n",
              "        [-0.4113, -0.0718, -0.7567],\n",
              "        [ 0.0975, -0.4506, -0.5682],\n",
              "        [-0.4986, -0.2895, -0.8209],\n",
              "        [-0.0423, -0.4506, -0.2731],\n",
              "        [-0.3979, -0.5706, -0.9591],\n",
              "        [ 0.3842, -0.2365, -0.4402],\n",
              "        [-0.5273, -0.8900, -0.7659],\n",
              "        [-0.4371, -0.2718, -0.3837],\n",
              "        [-0.2559, -0.2265, -0.2451],\n",
              "        [-0.3912, -0.2598, -0.5065],\n",
              "        [-0.0700, -0.7647, -1.1184],\n",
              "        [-0.1843, -0.0371, -0.4430],\n",
              "        [-0.4675, -0.1890, -0.1656]], device='cuda:0', grad_fn=<AddmmBackward>)"
            ]
          },
          "metadata": {
            "tags": []
          },
          "execution_count": 53
        }
      ]
    },
    {
      "cell_type": "code",
      "metadata": {
        "colab": {
          "base_uri": "https://localhost:8080/"
        },
        "id": "xb9vDSmkqswi",
        "outputId": "f6e4a625-1038-4a1d-b7f1-c9ee3c32e75c"
      },
      "source": [
        "nn.Softmax(dim=1)(analyzer(input_ids = data['input_ids'].to(device), attention_mask=data['attention_mask'].to(device)))"
      ],
      "execution_count": null,
      "outputs": [
        {
          "output_type": "execute_result",
          "data": {
            "text/plain": [
              "tensor([[0.3054, 0.4582, 0.2364],\n",
              "        [0.4209, 0.3797, 0.1994],\n",
              "        [0.2750, 0.4481, 0.2769],\n",
              "        [0.4272, 0.2445, 0.3283],\n",
              "        [0.3253, 0.4539, 0.2208],\n",
              "        [0.2833, 0.4156, 0.3011],\n",
              "        [0.3994, 0.4167, 0.1840],\n",
              "        [0.4938, 0.3050, 0.2012],\n",
              "        [0.2782, 0.4554, 0.2664],\n",
              "        [0.3665, 0.3772, 0.2563],\n",
              "        [0.3369, 0.3708, 0.2923],\n",
              "        [0.3563, 0.4401, 0.2036],\n",
              "        [0.3296, 0.3931, 0.2772],\n",
              "        [0.3703, 0.3336, 0.2961],\n",
              "        [0.3553, 0.2966, 0.3480],\n",
              "        [0.2580, 0.4389, 0.3030]], device='cuda:0', grad_fn=<SoftmaxBackward>)"
            ]
          },
          "metadata": {
            "tags": []
          },
          "execution_count": 54
        }
      ]
    },
    {
      "cell_type": "code",
      "metadata": {
        "colab": {
          "base_uri": "https://localhost:8080/"
        },
        "id": "zVZIDPvXf0LJ",
        "outputId": "345315c6-ab3a-4fdf-ad78-3f3299007096"
      },
      "source": [
        "nn.Softmax(dim=1)(analyzerV3(input_ids = data['input_ids'].to(device), attention_mask=data['attention_mask'].to(device)))"
      ],
      "execution_count": null,
      "outputs": [
        {
          "output_type": "execute_result",
          "data": {
            "text/plain": [
              "tensor([[0.2717, 0.3764, 0.3519],\n",
              "        [0.3384, 0.3279, 0.3337],\n",
              "        [0.3052, 0.3679, 0.3269],\n",
              "        [0.3142, 0.3469, 0.3389],\n",
              "        [0.2551, 0.4141, 0.3308],\n",
              "        [0.2869, 0.3771, 0.3361],\n",
              "        [0.3081, 0.3607, 0.3311],\n",
              "        [0.2773, 0.4380, 0.2847],\n",
              "        [0.3063, 0.3440, 0.3497],\n",
              "        [0.3332, 0.2901, 0.3767],\n",
              "        [0.2949, 0.3760, 0.3292],\n",
              "        [0.3375, 0.3516, 0.3109],\n",
              "        [0.2823, 0.4013, 0.3163],\n",
              "        [0.3137, 0.3250, 0.3613],\n",
              "        [0.2758, 0.3637, 0.3605],\n",
              "        [0.3420, 0.3171, 0.3409]], device='cuda:0', grad_fn=<SoftmaxBackward>)"
            ]
          },
          "metadata": {
            "tags": []
          },
          "execution_count": 42
        }
      ]
    },
    {
      "cell_type": "code",
      "metadata": {
        "id": "711KxFF8nRZa"
      },
      "source": [
        "EPOCHS = 10\n",
        "optim = AdamW(analyzer.parameters(), lr=3e-5, correct_bias=False)\n",
        "scheduler = get_linear_schedule_with_warmup(optim, num_warmup_steps=0, num_training_steps=len(train_loader) * EPOCHS)\n",
        "crit = nn.CrossEntropyLoss().to(device)"
      ],
      "execution_count": null,
      "outputs": []
    },
    {
      "cell_type": "code",
      "metadata": {
        "id": "ZrskjZLegYrd"
      },
      "source": [
        "EPOCHS = 10\n",
        "optim = AdamW(analyzerV4.parameters(), lr=3e-5, correct_bias=False)\n",
        "scheduler = get_linear_schedule_with_warmup(optim, num_warmup_steps=0, num_training_steps=len(train_loader) * EPOCHS)\n",
        "crit = nn.CrossEntropyLoss().to(device)"
      ],
      "execution_count": null,
      "outputs": []
    },
    {
      "cell_type": "code",
      "metadata": {
        "id": "9iWccZpjpibs"
      },
      "source": [
        "def train_epoch(model, loader, crit, optim, device, scheduler, num_ex):\n",
        "  model = model.train()\n",
        "  losses = []\n",
        "  correct = 0\n",
        "\n",
        "  for data in loader:\n",
        "    input_ids = data['input_ids'].to(device)\n",
        "    attention_mask = data['attention_mask'].to(device)\n",
        "    trg = data['target'].to(device)\n",
        "\n",
        "    out = model(input_ids=input_ids, attention_mask=attention_mask)\n",
        "    _, pred = torch.max(out, dim=1)\n",
        "    loss = crit(out, trg)\n",
        "    correct += torch.sum(pred == trg)\n",
        "    losses.append(loss.item())\n",
        "\n",
        "    loss.backward()\n",
        "    nn.utils.clip_grad_norm_(model.parameters(), max_norm=1.0)\n",
        "    optim.step()\n",
        "    scheduler.step()\n",
        "    optim.zero_grad()\n",
        "  \n",
        "  return correct.double() / num_ex, np.mean(losses)"
      ],
      "execution_count": null,
      "outputs": []
    },
    {
      "cell_type": "code",
      "metadata": {
        "id": "dpseIQzq8e8y"
      },
      "source": [
        "def eval(model, loader, crit, device, num_ex):\n",
        "  model = model.eval()\n",
        "  losses = []\n",
        "  correct = 0\n",
        "\n",
        "  with torch.no_grad():\n",
        "    for data in loader:\n",
        "      input_ids = data['input_ids'].to(device)\n",
        "      attention_mask = data['attention_mask'].to(device)\n",
        "      trg = data['target'].to(device)\n",
        "\n",
        "      out = model(input_ids=input_ids, attention_mask=attention_mask)\n",
        "      _, pred = torch.max(out, dim=1)\n",
        "      loss = crit(out, trg)\n",
        "      correct += torch.sum(pred == trg)\n",
        "      losses.append(loss.item())\n",
        "  \n",
        "  return correct.double() / num_ex, np.mean(losses)"
      ],
      "execution_count": null,
      "outputs": []
    },
    {
      "cell_type": "code",
      "metadata": {
        "colab": {
          "base_uri": "https://localhost:8080/"
        },
        "id": "F_dsx48O-5jo",
        "outputId": "fb4da9bf-ca70-4098-ea5b-2fcc5508cbfc"
      },
      "source": [
        "name = 'Agg_02_3e5'\n",
        "history = defaultdict(list)\n",
        "best_acc = 0\n",
        "\n",
        "for epoch in range(EPOCHS):\n",
        "  print('Epoch ', epoch + 1, '/', EPOCHS)\n",
        "  print('-' * 10)\n",
        "  \n",
        "  train_acc, train_loss = train_epoch(analyzer, train_loader, crit, optim, device, scheduler, len(df_train))\n",
        "  print('Train loss = ', train_loss, ' | Train acc = ', train_acc)\n",
        "  \n",
        "  val_acc, val_loss = eval(analyzer, val_loader, crit, device, len(df_val))\n",
        "  print('Val loss = ', val_loss, ' | Val acc = ', val_acc)\n",
        "\n",
        "  history['train_acc'].append(train_acc)\n",
        "  history['train_loss'].append(train_loss)\n",
        "  history['val_acc'].append(val_acc)\n",
        "  history['val_loss'].append(val_loss)\n",
        "\n",
        "  if val_acc > best_acc:\n",
        "    best_acc = val_acc\n",
        "    torch.save(analyzer.state_dict(), model_path + name + '.pt')"
      ],
      "execution_count": null,
      "outputs": [
        {
          "output_type": "stream",
          "text": [
            "Epoch  1 / 10\n",
            "----------\n"
          ],
          "name": "stdout"
        },
        {
          "output_type": "stream",
          "text": [
            "/usr/local/lib/python3.6/dist-packages/transformers/tokenization_utils_base.py:2022: FutureWarning: The `pad_to_max_length` argument is deprecated and will be removed in a future version, use `padding=True` or `padding='longest'` to pad to the longest sequence in the batch, or use `padding='max_length'` to pad to a max length. In this case, you can give a specific length with `max_length` (e.g. `max_length=45`) or leave max_length to None to pad to the maximal input size of the model (e.g. 512 for Bert).\n",
            "  FutureWarning,\n"
          ],
          "name": "stderr"
        },
        {
          "output_type": "stream",
          "text": [
            "Train loss =  0.801925340940667  | Train acc =  tensor(0.6287, device='cuda:0', dtype=torch.float64)\n",
            "Val loss =  0.691679692864418  | Val acc =  tensor(0.6823, device='cuda:0', dtype=torch.float64)\n",
            "Epoch  2 / 10\n",
            "----------\n",
            "Train loss =  0.533202833569615  | Train acc =  tensor(0.7868, device='cuda:0', dtype=torch.float64)\n",
            "Val loss =  0.6273228268325329  | Val acc =  tensor(0.7751, device='cuda:0', dtype=torch.float64)\n",
            "Epoch  3 / 10\n",
            "----------\n",
            "Train loss =  0.3099837662624805  | Train acc =  tensor(0.8937, device='cuda:0', dtype=torch.float64)\n",
            "Val loss =  0.6663557285815478  | Val acc =  tensor(0.8145, device='cuda:0', dtype=torch.float64)\n",
            "Epoch  4 / 10\n",
            "----------\n",
            "Train loss =  0.20227225720025724  | Train acc =  tensor(0.9388, device='cuda:0', dtype=torch.float64)\n",
            "Val loss =  0.7856327768601478  | Val acc =  tensor(0.8247, device='cuda:0', dtype=torch.float64)\n",
            "Epoch  5 / 10\n",
            "----------\n",
            "Train loss =  0.1374847204169536  | Train acc =  tensor(0.9618, device='cuda:0', dtype=torch.float64)\n",
            "Val loss =  0.8121640700590796  | Val acc =  tensor(0.8539, device='cuda:0', dtype=torch.float64)\n",
            "Epoch  6 / 10\n",
            "----------\n",
            "Train loss =  0.10526313288769323  | Train acc =  tensor(0.9713, device='cuda:0', dtype=torch.float64)\n",
            "Val loss =  0.8240602645231411  | Val acc =  tensor(0.8577, device='cuda:0', dtype=torch.float64)\n",
            "Epoch  7 / 10\n",
            "----------\n",
            "Train loss =  0.07170836394879379  | Train acc =  tensor(0.9784, device='cuda:0', dtype=torch.float64)\n",
            "Val loss =  0.9379082174407085  | Val acc =  tensor(0.8526, device='cuda:0', dtype=torch.float64)\n",
            "Epoch  8 / 10\n",
            "----------\n",
            "Train loss =  0.05460420627184472  | Train acc =  tensor(0.9835, device='cuda:0', dtype=torch.float64)\n",
            "Val loss =  1.0270243142853723  | Val acc =  tensor(0.8564, device='cuda:0', dtype=torch.float64)\n",
            "Epoch  9 / 10\n",
            "----------\n",
            "Train loss =  0.04711835163536521  | Train acc =  tensor(0.9853, device='cuda:0', dtype=torch.float64)\n",
            "Val loss =  1.0279922385403188  | Val acc =  tensor(0.8615, device='cuda:0', dtype=torch.float64)\n",
            "Epoch  10 / 10\n",
            "----------\n",
            "Train loss =  0.03847142440944179  | Train acc =  tensor(0.9866, device='cuda:0', dtype=torch.float64)\n",
            "Val loss =  1.001996052149916  | Val acc =  tensor(0.8666, device='cuda:0', dtype=torch.float64)\n"
          ],
          "name": "stdout"
        }
      ]
    },
    {
      "cell_type": "code",
      "metadata": {
        "colab": {
          "base_uri": "https://localhost:8080/",
          "height": 408
        },
        "id": "_1QMdvipT3K3",
        "outputId": "24b73f61-a1da-4915-a286-c4c38d453908"
      },
      "source": [
        "plt.plot(history['train_acc'], label='Train acc')\n",
        "plt.plot(history['val_acc'], label='Val acc')\n",
        "\n",
        "plt.title('Training history')\n",
        "plt.ylabel('Accuracy')\n",
        "plt.xlabel('Epoch')\n",
        "plt.legend()\n",
        "plt.ylim([0, 1]);"
      ],
      "execution_count": null,
      "outputs": [
        {
          "output_type": "display_data",
          "data": {
            "image/png": "[encoded data removed]",
            "text/plain": [
              "<Figure size 576x432 with 1 Axes>"
            ]
          },
          "metadata": {
            "tags": [],
            "image/png": {
              "width": 503,
              "height": 391
            }
          }
        }
      ]
    },
    {
      "cell_type": "code",
      "metadata": {
        "colab": {
          "base_uri": "https://localhost:8080/"
        },
        "id": "v9gg6y6NUMCR",
        "outputId": "07d9cf65-dbe0-44c5-dbeb-71bfefad57d1"
      },
      "source": [
        "test_acc, _ = eval(analyzer, test_loader, crit, device, len(df_test))\n",
        "print(test_acc.item())"
      ],
      "execution_count": null,
      "outputs": [
        {
          "output_type": "stream",
          "text": [
            "/usr/local/lib/python3.6/dist-packages/transformers/tokenization_utils_base.py:2022: FutureWarning: The `pad_to_max_length` argument is deprecated and will be removed in a future version, use `padding=True` or `padding='longest'` to pad to the longest sequence in the batch, or use `padding='max_length'` to pad to a max length. In this case, you can give a specific length with `max_length` (e.g. `max_length=45`) or leave max_length to None to pad to the maximal input size of the model (e.g. 512 for Bert).\n",
            "  FutureWarning,\n"
          ],
          "name": "stderr"
        },
        {
          "output_type": "stream",
          "text": [
            "0.8718274111675126\n"
          ],
          "name": "stdout"
        }
      ]
    },
    {
      "cell_type": "code",
      "metadata": {
        "id": "jlBPHLPQUqmD"
      },
      "source": [
        "def get_info(model, loader):\n",
        "  model = model.eval()\n",
        "\n",
        "  preds = []\n",
        "  trgs = []\n",
        "\n",
        "  with torch.no_grad():\n",
        "    for data in loader:\n",
        "\n",
        "      input_ids = data[\"input_ids\"].to(device)\n",
        "      attention_mask = data[\"attention_mask\"].to(device)\n",
        "      trg = data[\"target\"].to(device)\n",
        "\n",
        "      out = model(input_ids=input_ids, attention_mask=attention_mask)\n",
        "      _, pred = torch.max(out, dim=1)\n",
        "\n",
        "      preds.extend(pred)\n",
        "      trgs.extend(trg)\n",
        "\n",
        "  preds = torch.stack(preds).cpu()\n",
        "  trgs = torch.stack(trgs).cpu()\n",
        "  return trgs, preds"
      ],
      "execution_count": null,
      "outputs": []
    },
    {
      "cell_type": "code",
      "metadata": {
        "id": "gaCHLc4Bnj-T"
      },
      "source": [
        "def show_info(model, loader):\n",
        "  trgs, preds = get_info(model, loader)\n",
        "  print(classification_report(trgs, preds, target_names=tags))\n",
        "  \n",
        "  cm = confusion_matrix(trgs, preds)\n",
        "  df_cm = pd.DataFrame(cm, index=tags, columns=tags)\n",
        "\n",
        "  hmap = sns.heatmap(df_cm, annot=True, fmt=\"d\", cmap=\"Blues\")\n",
        "  hmap.yaxis.set_ticklabels(hmap.yaxis.get_ticklabels(), rotation=0, ha='right')\n",
        "  hmap.xaxis.set_ticklabels(hmap.xaxis.get_ticklabels(), rotation=30, ha='right')\n",
        "  plt.ylabel('True sentiment')\n",
        "  plt.xlabel('Predicted sentiment')"
      ],
      "execution_count": null,
      "outputs": []
    },
    {
      "cell_type": "code",
      "metadata": {
        "colab": {
          "base_uri": "https://localhost:8080/",
          "height": 639
        },
        "id": "RtYxqxNVcGtq",
        "outputId": "5173b687-9a8b-4b68-d551-c4d599baf77b"
      },
      "source": [
        "show_info(analyzer, test_loader)"
      ],
      "execution_count": null,
      "outputs": [
        {
          "output_type": "stream",
          "text": [
            "/usr/local/lib/python3.6/dist-packages/transformers/tokenization_utils_base.py:2022: FutureWarning: The `pad_to_max_length` argument is deprecated and will be removed in a future version, use `padding=True` or `padding='longest'` to pad to the longest sequence in the batch, or use `padding='max_length'` to pad to a max length. In this case, you can give a specific length with `max_length` (e.g. `max_length=45`) or leave max_length to None to pad to the maximal input size of the model (e.g. 512 for Bert).\n",
            "  FutureWarning,\n"
          ],
          "name": "stderr"
        },
        {
          "output_type": "stream",
          "text": [
            "              precision    recall  f1-score   support\n",
            "\n",
            "    negative       0.89      0.87      0.88       262\n",
            "     neutral       0.83      0.86      0.85       270\n",
            "    positive       0.90      0.89      0.89       256\n",
            "\n",
            "    accuracy                           0.87       788\n",
            "   macro avg       0.87      0.87      0.87       788\n",
            "weighted avg       0.87      0.87      0.87       788\n",
            "\n"
          ],
          "name": "stdout"
        },
        {
          "output_type": "display_data",
          "data": {
            "image/png": "[encoded data removed]",
            "text/plain": [
              "<Figure size 576x432 with 2 Axes>"
            ]
          },
          "metadata": {
            "tags": [],
            "image/png": {
              "width": 514,
              "height": 398
            }
          }
        }
      ]
    },
    {
      "cell_type": "code",
      "metadata": {
        "colab": {
          "base_uri": "https://localhost:8080/"
        },
        "id": "qtea8qSQb7VZ",
        "outputId": "d1b3e4c2-1b4b-4371-ad8f-f6aa56035db8"
      },
      "source": [
        "analyzer.load_state_dict(torch.load(model_path + 'Agg_02_3e5.pt'))"
      ],
      "execution_count": null,
      "outputs": [
        {
          "output_type": "execute_result",
          "data": {
            "text/plain": [
              "<All keys matched successfully>"
            ]
          },
          "metadata": {
            "tags": []
          },
          "execution_count": 13
        }
      ]
    },
    {
      "cell_type": "code",
      "metadata": {
        "id": "9g0c1Bp9e_R4"
      },
      "source": [
        "def analyze(sent):\n",
        "  encoded = tokenizer.encode_plus(sent, max_length=MAX_LEN, add_special_tokens=True, return_token_type_ids=False, pad_to_max_length=True, return_attention_mask=True, return_tensors='pt')\n",
        "  input_ids = encoded['input_ids'].to(device)\n",
        "  attention_mask = encoded['attention_mask'].to(device)\n",
        "\n",
        "  out = analyzer(input_ids, attention_mask)\n",
        "  _, pred = torch.max(out, dim=1)\n",
        "\n",
        "  return tags[pred]"
      ],
      "execution_count": null,
      "outputs": []
    },
    {
      "cell_type": "code",
      "metadata": {
        "colab": {
          "base_uri": "https://localhost:8080/",
          "height": 106
        },
        "id": "44yK51eQcMq3",
        "outputId": "41653a00-c15e-46e1-dfc7-2e7ab33c0f3e"
      },
      "source": [
        "analyze(\"I'm constantly being killed by cheaters! The worst game I've ever seen!\")"
      ],
      "execution_count": null,
      "outputs": [
        {
          "output_type": "stream",
          "text": [
            "Truncation was not explicitly activated but `max_length` is provided a specific value, please use `truncation=True` to explicitly truncate examples to max length. Defaulting to 'longest_first' truncation strategy. If you encode pairs of sequences (GLUE-style) with the tokenizer you can select this strategy more precisely by providing a specific strategy to `truncation`.\n",
            "/usr/local/lib/python3.6/dist-packages/transformers/tokenization_utils_base.py:2142: FutureWarning: The `pad_to_max_length` argument is deprecated and will be removed in a future version, use `padding=True` or `padding='longest'` to pad to the longest sequence in the batch, or use `padding='max_length'` to pad to a max length. In this case, you can give a specific length with `max_length` (e.g. `max_length=45`) or leave max_length to None to pad to the maximal input size of the model (e.g. 512 for Bert).\n",
            "  FutureWarning,\n"
          ],
          "name": "stderr"
        },
        {
          "output_type": "execute_result",
          "data": {
            "application/vnd.google.colaboratory.intrinsic+json": {
              "type": "string"
            },
            "text/plain": [
              "'negative'"
            ]
          },
          "metadata": {
            "tags": []
          },
          "execution_count": 17
        }
      ]
    },
    {
      "cell_type": "code",
      "metadata": {
        "colab": {
          "base_uri": "https://localhost:8080/",
          "height": 89
        },
        "id": "r334YQ0DcMq4",
        "outputId": "7a5664a3-75dc-47e7-9b57-ec73b95b2323"
      },
      "source": [
        "analyze(\"Well, it was quite funny but nothing special\")"
      ],
      "execution_count": null,
      "outputs": [
        {
          "output_type": "stream",
          "text": [
            "/usr/local/lib/python3.6/dist-packages/transformers/tokenization_utils_base.py:2142: FutureWarning: The `pad_to_max_length` argument is deprecated and will be removed in a future version, use `padding=True` or `padding='longest'` to pad to the longest sequence in the batch, or use `padding='max_length'` to pad to a max length. In this case, you can give a specific length with `max_length` (e.g. `max_length=45`) or leave max_length to None to pad to the maximal input size of the model (e.g. 512 for Bert).\n",
            "  FutureWarning,\n"
          ],
          "name": "stderr"
        },
        {
          "output_type": "execute_result",
          "data": {
            "application/vnd.google.colaboratory.intrinsic+json": {
              "type": "string"
            },
            "text/plain": [
              "'neutral'"
            ]
          },
          "metadata": {
            "tags": []
          },
          "execution_count": 18
        }
      ]
    },
    {
      "cell_type": "code",
      "metadata": {
        "colab": {
          "base_uri": "https://localhost:8080/",
          "height": 89
        },
        "id": "hTCsTBJNcMq4",
        "outputId": "23d8d468-5254-4cd9-f098-66fc8705b22f"
      },
      "source": [
        "analyze(\"What I love about this game is an incredible story of the main character\")"
      ],
      "execution_count": null,
      "outputs": [
        {
          "output_type": "stream",
          "text": [
            "/usr/local/lib/python3.6/dist-packages/transformers/tokenization_utils_base.py:2142: FutureWarning: The `pad_to_max_length` argument is deprecated and will be removed in a future version, use `padding=True` or `padding='longest'` to pad to the longest sequence in the batch, or use `padding='max_length'` to pad to a max length. In this case, you can give a specific length with `max_length` (e.g. `max_length=45`) or leave max_length to None to pad to the maximal input size of the model (e.g. 512 for Bert).\n",
            "  FutureWarning,\n"
          ],
          "name": "stderr"
        },
        {
          "output_type": "execute_result",
          "data": {
            "application/vnd.google.colaboratory.intrinsic+json": {
              "type": "string"
            },
            "text/plain": [
              "'positive'"
            ]
          },
          "metadata": {
            "tags": []
          },
          "execution_count": 19
        }
      ]
    },
    {
      "cell_type": "code",
      "metadata": {
        "colab": {
          "base_uri": "https://localhost:8080/",
          "height": 106
        },
        "id": "auiY5hD3cxsQ",
        "outputId": "92ecf455-832e-41c4-caeb-f3af22bfae67"
      },
      "source": [
        "analyze(\"This game is a joke! I've just thrown my money away\")"
      ],
      "execution_count": null,
      "outputs": [
        {
          "output_type": "stream",
          "text": [
            "Truncation was not explicitly activated but `max_length` is provided a specific value, please use `truncation=True` to explicitly truncate examples to max length. Defaulting to 'longest_first' truncation strategy. If you encode pairs of sequences (GLUE-style) with the tokenizer you can select this strategy more precisely by providing a specific strategy to `truncation`.\n",
            "/usr/local/lib/python3.6/dist-packages/transformers/tokenization_utils_base.py:2142: FutureWarning: The `pad_to_max_length` argument is deprecated and will be removed in a future version, use `padding=True` or `padding='longest'` to pad to the longest sequence in the batch, or use `padding='max_length'` to pad to a max length. In this case, you can give a specific length with `max_length` (e.g. `max_length=45`) or leave max_length to None to pad to the maximal input size of the model (e.g. 512 for Bert).\n",
            "  FutureWarning,\n"
          ],
          "name": "stderr"
        },
        {
          "output_type": "execute_result",
          "data": {
            "application/vnd.google.colaboratory.intrinsic+json": {
              "type": "string"
            },
            "text/plain": [
              "'negative'"
            ]
          },
          "metadata": {
            "tags": []
          },
          "execution_count": 15
        }
      ]
    },
    {
      "cell_type": "code",
      "metadata": {
        "colab": {
          "base_uri": "https://localhost:8080/",
          "height": 89
        },
        "id": "-aoQZJ9t3MaA",
        "outputId": "0cd7a8d7-a32e-49ee-f46e-b1b3d54746b0"
      },
      "source": [
        "analyze(\"I was laughing all day long! Cheaters are absolutely everywhere!\")"
      ],
      "execution_count": null,
      "outputs": [
        {
          "output_type": "stream",
          "text": [
            "/usr/local/lib/python3.6/dist-packages/transformers/tokenization_utils_base.py:2142: FutureWarning: The `pad_to_max_length` argument is deprecated and will be removed in a future version, use `padding=True` or `padding='longest'` to pad to the longest sequence in the batch, or use `padding='max_length'` to pad to a max length. In this case, you can give a specific length with `max_length` (e.g. `max_length=45`) or leave max_length to None to pad to the maximal input size of the model (e.g. 512 for Bert).\n",
            "  FutureWarning,\n"
          ],
          "name": "stderr"
        },
        {
          "output_type": "execute_result",
          "data": {
            "application/vnd.google.colaboratory.intrinsic+json": {
              "type": "string"
            },
            "text/plain": [
              "'negative'"
            ]
          },
          "metadata": {
            "tags": []
          },
          "execution_count": 31
        }
      ]
    },
    {
      "cell_type": "code",
      "metadata": {
        "colab": {
          "base_uri": "https://localhost:8080/",
          "height": 89
        },
        "id": "dlEQ7h5e4ig2",
        "outputId": "6bfd2147-15f3-468d-ad1d-923d32f670f0"
      },
      "source": [
        "analyze(\"I was laughing all day long!\")"
      ],
      "execution_count": null,
      "outputs": [
        {
          "output_type": "stream",
          "text": [
            "/usr/local/lib/python3.6/dist-packages/transformers/tokenization_utils_base.py:2142: FutureWarning: The `pad_to_max_length` argument is deprecated and will be removed in a future version, use `padding=True` or `padding='longest'` to pad to the longest sequence in the batch, or use `padding='max_length'` to pad to a max length. In this case, you can give a specific length with `max_length` (e.g. `max_length=45`) or leave max_length to None to pad to the maximal input size of the model (e.g. 512 for Bert).\n",
            "  FutureWarning,\n"
          ],
          "name": "stderr"
        },
        {
          "output_type": "execute_result",
          "data": {
            "application/vnd.google.colaboratory.intrinsic+json": {
              "type": "string"
            },
            "text/plain": [
              "'positive'"
            ]
          },
          "metadata": {
            "tags": []
          },
          "execution_count": 32
        }
      ]
    },
    {
      "cell_type": "code",
      "metadata": {
        "colab": {
          "base_uri": "https://localhost:8080/"
        },
        "id": "-o-yjOOAgzaG",
        "outputId": "a6530fc6-c460-4b15-c380-081f9c3686c9"
      },
      "source": [
        "name = 'SA_V4'\n",
        "history = defaultdict(list)\n",
        "best_acc = 0\n",
        "\n",
        "for epoch in range(EPOCHS):\n",
        "  print('Epoch ', epoch + 1, '/', EPOCHS)\n",
        "  print('-' * 10)\n",
        "  \n",
        "  train_acc, train_loss = train_epoch(analyzerV4, train_loader, crit, optim, device, scheduler, len(df_train))\n",
        "  print('Train loss = ', train_loss, ' | Train acc = ', train_acc)\n",
        "  \n",
        "  val_acc, val_loss = eval(analyzerV4, val_loader, crit, device, len(df_val))\n",
        "  print('Val loss = ', val_loss, ' | Val acc = ', val_acc)\n",
        "\n",
        "  history['train_acc'].append(train_acc)\n",
        "  history['train_loss'].append(train_loss)\n",
        "  history['val_acc'].append(val_acc)\n",
        "  history['val_loss'].append(val_loss)\n",
        "\n",
        "  if val_acc > best_acc:\n",
        "    best_acc = val_acc\n",
        "    torch.save(analyzerV4.state_dict(), model_path + name + '.pt')"
      ],
      "execution_count": null,
      "outputs": [
        {
          "output_type": "stream",
          "text": [
            "Epoch  1 / 10\n",
            "----------\n"
          ],
          "name": "stdout"
        },
        {
          "output_type": "stream",
          "text": [
            "/usr/local/lib/python3.6/dist-packages/transformers/tokenization_utils_base.py:2142: FutureWarning: The `pad_to_max_length` argument is deprecated and will be removed in a future version, use `padding=True` or `padding='longest'` to pad to the longest sequence in the batch, or use `padding='max_length'` to pad to a max length. In this case, you can give a specific length with `max_length` (e.g. `max_length=45`) or leave max_length to None to pad to the maximal input size of the model (e.g. 512 for Bert).\n",
            "  FutureWarning,\n"
          ],
          "name": "stderr"
        },
        {
          "output_type": "stream",
          "text": [
            "Train loss =  0.7369376627169129  | Train acc =  tensor(0.6700, device='cuda:0', dtype=torch.float64)\n",
            "Val loss =  0.6295290970802307  | Val acc =  tensor(0.7281, device='cuda:0', dtype=torch.float64)\n",
            "Epoch  2 / 10\n",
            "----------\n",
            "Train loss =  0.4080861080017437  | Train acc =  tensor(0.8454, device='cuda:0', dtype=torch.float64)\n",
            "Val loss =  0.5465315097570419  | Val acc =  tensor(0.8056, device='cuda:0', dtype=torch.float64)\n",
            "Epoch  3 / 10\n",
            "----------\n",
            "Train loss =  0.20464694183361853  | Train acc =  tensor(0.9335, device='cuda:0', dtype=torch.float64)\n",
            "Val loss =  0.6813714875280857  | Val acc =  tensor(0.8208, device='cuda:0', dtype=torch.float64)\n",
            "Epoch  4 / 10\n",
            "----------\n",
            "Train loss =  0.12208635443122531  | Train acc =  tensor(0.9610, device='cuda:0', dtype=torch.float64)\n",
            "Val loss =  0.6937009998969734  | Val acc =  tensor(0.8602, device='cuda:0', dtype=torch.float64)\n",
            "Epoch  5 / 10\n",
            "----------\n",
            "Train loss =  0.0798992199558698  | Train acc =  tensor(0.9756, device='cuda:0', dtype=torch.float64)\n",
            "Val loss =  0.8356989613850601  | Val acc =  tensor(0.8399, device='cuda:0', dtype=torch.float64)\n",
            "Epoch  6 / 10\n",
            "----------\n",
            "Train loss =  0.05469041226106395  | Train acc =  tensor(0.9815, device='cuda:0', dtype=torch.float64)\n",
            "Val loss =  0.8017760752892354  | Val acc =  tensor(0.8679, device='cuda:0', dtype=torch.float64)\n",
            "Epoch  7 / 10\n",
            "----------\n",
            "Train loss =  0.03986588933557807  | Train acc =  tensor(0.9855, device='cuda:0', dtype=torch.float64)\n",
            "Val loss =  0.8569757050400949  | Val acc =  tensor(0.8602, device='cuda:0', dtype=torch.float64)\n",
            "Epoch  8 / 10\n",
            "----------\n",
            "Train loss =  0.029567585196092455  | Train acc =  tensor(0.9909, device='cuda:0', dtype=torch.float64)\n",
            "Val loss =  0.8749080656591104  | Val acc =  tensor(0.8666, device='cuda:0', dtype=torch.float64)\n",
            "Epoch  9 / 10\n",
            "----------\n",
            "Train loss =  0.017216811273142545  | Train acc =  tensor(0.9941, device='cuda:0', dtype=torch.float64)\n",
            "Val loss =  0.9201888598025835  | Val acc =  tensor(0.8653, device='cuda:0', dtype=torch.float64)\n",
            "Epoch  10 / 10\n",
            "----------\n",
            "Train loss =  0.01216811961331293  | Train acc =  tensor(0.9960, device='cuda:0', dtype=torch.float64)\n",
            "Val loss =  0.9471299065068888  | Val acc =  tensor(0.8666, device='cuda:0', dtype=torch.float64)\n"
          ],
          "name": "stdout"
        }
      ]
    }
  ]
}